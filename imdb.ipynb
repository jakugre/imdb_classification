{
 "cells": [
  {
   "cell_type": "markdown",
   "id": "e59b63db",
   "metadata": {
    "papermill": {
     "duration": 0.046698,
     "end_time": "2021-07-23T20:31:58.608757",
     "exception": false,
     "start_time": "2021-07-23T20:31:58.562059",
     "status": "completed"
    },
    "tags": []
   },
   "source": [
    "# **1. Importing Libraries**"
   ]
  },
  {
   "cell_type": "code",
   "execution_count": 153,
   "id": "b17f4884",
   "metadata": {
    "execution": {
     "iopub.execute_input": "2021-07-23T20:31:58.717751Z",
     "iopub.status.busy": "2021-07-23T20:31:58.717118Z",
     "iopub.status.idle": "2021-07-23T20:32:05.767810Z",
     "shell.execute_reply": "2021-07-23T20:32:05.767230Z",
     "shell.execute_reply.started": "2021-07-23T19:28:27.061215Z"
    },
    "papermill": {
     "duration": 7.112343,
     "end_time": "2021-07-23T20:32:05.767985",
     "exception": false,
     "start_time": "2021-07-23T20:31:58.655642",
     "status": "completed"
    },
    "tags": []
   },
   "outputs": [
    {
     "name": "stderr",
     "output_type": "stream",
     "text": [
      "[nltk_data] Downloading package stopwords to\n",
      "[nltk_data]     /Users/kubagrezlikowski/nltk_data...\n",
      "[nltk_data]   Package stopwords is already up-to-date!\n",
      "[nltk_data] Downloading package wordnet to\n",
      "[nltk_data]     /Users/kubagrezlikowski/nltk_data...\n",
      "[nltk_data]   Package wordnet is already up-to-date!\n",
      "[nltk_data] Downloading package omw-1.4 to\n",
      "[nltk_data]     /Users/kubagrezlikowski/nltk_data...\n",
      "[nltk_data]   Package omw-1.4 is already up-to-date!\n"
     ]
    }
   ],
   "source": [
    "import os\n",
    "import numpy as np\n",
    "import pandas as pd\n",
    "import seaborn as sns\n",
    "import matplotlib.pyplot as plt\n",
    "import nltk\n",
    "nltk.download('stopwords')\n",
    "nltk.download('wordnet')\n",
    "nltk.download('omw-1.4')\n",
    "from nltk.corpus import stopwords\n",
    "from nltk.stem import WordNetLemmatizer\n",
    "from nltk.tokenize import word_tokenize\n",
    "from wordcloud import WordCloud,STOPWORDS\n",
    "from bs4 import BeautifulSoup\n",
    "import re,string,unicodedata\n",
    "\n",
    "from sklearn.feature_extraction.text import CountVectorizer, TfidfVectorizer\n",
    "from sklearn.linear_model import LogisticRegression\n",
    "from sklearn.svm import LinearSVC\n",
    "from sklearn.ensemble import GradientBoostingClassifier\n",
    "from sklearn.naive_bayes import GaussianNB, MultinomialNB\n",
    "from sklearn.model_selection import train_test_split\n",
    "from sklearn.metrics import classification_report, accuracy_score, confusion_matrix, plot_confusion_matrix, plot_roc_curve, plot_precision_recall_curve\n",
    "from xgboost.sklearn import XGBClassifier\n",
    "\n",
    "import tensorflow as tf\n",
    "from tensorflow.keras.preprocessing.text import Tokenizer\n",
    "from tensorflow.keras.preprocessing.sequence import pad_sequences\n",
    "from tensorflow.keras.callbacks import ModelCheckpoint\n",
    "from tensorflow.keras.layers import Dense,Input, Embedding,LSTM,Dropout,Conv1D, MaxPooling1D, GlobalMaxPooling1D,Dropout,Bidirectional,Flatten,BatchNormalization\n",
    "from tensorflow.keras.callbacks import EarlyStopping\n",
    "from tensorflow.keras.models import Model\n",
    "from tensorflow.keras.optimizers import Adam\n",
    "from tensorflow.keras.utils import plot_model\n",
    "import transformers\n",
    "import tokenizers\n"
   ]
  },
  {
   "cell_type": "markdown",
   "id": "1113b437",
   "metadata": {
    "papermill": {
     "duration": 0.047728,
     "end_time": "2021-07-23T20:32:05.863249",
     "exception": false,
     "start_time": "2021-07-23T20:32:05.815521",
     "status": "completed"
    },
    "tags": []
   },
   "source": [
    "# **2. Data Extraction and Cleaning**"
   ]
  },
  {
   "cell_type": "code",
   "execution_count": 154,
   "id": "afa60efb",
   "metadata": {
    "execution": {
     "iopub.execute_input": "2021-07-23T20:32:05.961840Z",
     "iopub.status.busy": "2021-07-23T20:32:05.961353Z",
     "iopub.status.idle": "2021-07-23T20:32:07.638987Z",
     "shell.execute_reply": "2021-07-23T20:32:07.639379Z",
     "shell.execute_reply.started": "2021-07-23T19:28:29.963054Z"
    },
    "papermill": {
     "duration": 1.729179,
     "end_time": "2021-07-23T20:32:07.639531",
     "exception": false,
     "start_time": "2021-07-23T20:32:05.910352",
     "status": "completed"
    },
    "tags": []
   },
   "outputs": [],
   "source": [
    "data=pd.read_csv('IMDB Dataset.csv')"
   ]
  },
  {
   "cell_type": "code",
   "execution_count": 155,
   "id": "431748aa",
   "metadata": {},
   "outputs": [
    {
     "data": {
      "text/html": [
       "<div>\n",
       "<style scoped>\n",
       "    .dataframe tbody tr th:only-of-type {\n",
       "        vertical-align: middle;\n",
       "    }\n",
       "\n",
       "    .dataframe tbody tr th {\n",
       "        vertical-align: top;\n",
       "    }\n",
       "\n",
       "    .dataframe thead th {\n",
       "        text-align: right;\n",
       "    }\n",
       "</style>\n",
       "<table border=\"1\" class=\"dataframe\">\n",
       "  <thead>\n",
       "    <tr style=\"text-align: right;\">\n",
       "      <th></th>\n",
       "      <th>review</th>\n",
       "      <th>sentiment</th>\n",
       "    </tr>\n",
       "  </thead>\n",
       "  <tbody>\n",
       "    <tr>\n",
       "      <th>0</th>\n",
       "      <td>One of the other reviewers has mentioned that ...</td>\n",
       "      <td>positive</td>\n",
       "    </tr>\n",
       "    <tr>\n",
       "      <th>1</th>\n",
       "      <td>A wonderful little production. &lt;br /&gt;&lt;br /&gt;The...</td>\n",
       "      <td>positive</td>\n",
       "    </tr>\n",
       "    <tr>\n",
       "      <th>2</th>\n",
       "      <td>I thought this was a wonderful way to spend ti...</td>\n",
       "      <td>positive</td>\n",
       "    </tr>\n",
       "    <tr>\n",
       "      <th>3</th>\n",
       "      <td>Basically there's a family where a little boy ...</td>\n",
       "      <td>negative</td>\n",
       "    </tr>\n",
       "    <tr>\n",
       "      <th>4</th>\n",
       "      <td>Petter Mattei's \"Love in the Time of Money\" is...</td>\n",
       "      <td>positive</td>\n",
       "    </tr>\n",
       "  </tbody>\n",
       "</table>\n",
       "</div>"
      ],
      "text/plain": [
       "                                              review sentiment\n",
       "0  One of the other reviewers has mentioned that ...  positive\n",
       "1  A wonderful little production. <br /><br />The...  positive\n",
       "2  I thought this was a wonderful way to spend ti...  positive\n",
       "3  Basically there's a family where a little boy ...  negative\n",
       "4  Petter Mattei's \"Love in the Time of Money\" is...  positive"
      ]
     },
     "execution_count": 155,
     "metadata": {},
     "output_type": "execute_result"
    }
   ],
   "source": [
    "data.head()"
   ]
  },
  {
   "cell_type": "code",
   "execution_count": 156,
   "id": "3e3a5319",
   "metadata": {
    "execution": {
     "iopub.execute_input": "2021-07-23T20:32:07.749142Z",
     "iopub.status.busy": "2021-07-23T20:32:07.748345Z",
     "iopub.status.idle": "2021-07-23T20:32:07.763835Z",
     "shell.execute_reply": "2021-07-23T20:32:07.763279Z",
     "shell.execute_reply.started": "2021-07-23T19:28:30.525715Z"
    },
    "papermill": {
     "duration": 0.076417,
     "end_time": "2021-07-23T20:32:07.764002",
     "exception": false,
     "start_time": "2021-07-23T20:32:07.687585",
     "status": "completed"
    },
    "tags": []
   },
   "outputs": [
    {
     "name": "stdout",
     "output_type": "stream",
     "text": [
      "<class 'pandas.core.frame.DataFrame'>\n",
      "RangeIndex: 50000 entries, 0 to 49999\n",
      "Data columns (total 2 columns):\n",
      " #   Column     Non-Null Count  Dtype \n",
      "---  ------     --------------  ----- \n",
      " 0   review     50000 non-null  object\n",
      " 1   sentiment  50000 non-null  object\n",
      "dtypes: object(2)\n",
      "memory usage: 781.4+ KB\n"
     ]
    }
   ],
   "source": [
    "data.info()"
   ]
  },
  {
   "cell_type": "code",
   "execution_count": 157,
   "id": "0fd019cb",
   "metadata": {
    "execution": {
     "iopub.execute_input": "2021-07-23T20:32:07.919170Z",
     "iopub.status.busy": "2021-07-23T20:32:07.918394Z",
     "iopub.status.idle": "2021-07-23T20:32:07.977460Z",
     "shell.execute_reply": "2021-07-23T20:32:07.978227Z",
     "shell.execute_reply.started": "2021-07-23T19:28:30.554328Z"
    },
    "papermill": {
     "duration": 0.1655,
     "end_time": "2021-07-23T20:32:07.978377",
     "exception": false,
     "start_time": "2021-07-23T20:32:07.812877",
     "status": "completed"
    },
    "tags": []
   },
   "outputs": [
    {
     "data": {
      "text/html": [
       "<div>\n",
       "<style scoped>\n",
       "    .dataframe tbody tr th:only-of-type {\n",
       "        vertical-align: middle;\n",
       "    }\n",
       "\n",
       "    .dataframe tbody tr th {\n",
       "        vertical-align: top;\n",
       "    }\n",
       "\n",
       "    .dataframe thead th {\n",
       "        text-align: right;\n",
       "    }\n",
       "</style>\n",
       "<table border=\"1\" class=\"dataframe\">\n",
       "  <thead>\n",
       "    <tr style=\"text-align: right;\">\n",
       "      <th></th>\n",
       "      <th>review</th>\n",
       "      <th>sentiment</th>\n",
       "    </tr>\n",
       "  </thead>\n",
       "  <tbody>\n",
       "    <tr>\n",
       "      <th>count</th>\n",
       "      <td>50000</td>\n",
       "      <td>50000</td>\n",
       "    </tr>\n",
       "    <tr>\n",
       "      <th>unique</th>\n",
       "      <td>49582</td>\n",
       "      <td>2</td>\n",
       "    </tr>\n",
       "    <tr>\n",
       "      <th>top</th>\n",
       "      <td>Loved today's show!!! It was a variety and not...</td>\n",
       "      <td>positive</td>\n",
       "    </tr>\n",
       "    <tr>\n",
       "      <th>freq</th>\n",
       "      <td>5</td>\n",
       "      <td>25000</td>\n",
       "    </tr>\n",
       "  </tbody>\n",
       "</table>\n",
       "</div>"
      ],
      "text/plain": [
       "                                                   review sentiment\n",
       "count                                               50000     50000\n",
       "unique                                              49582         2\n",
       "top     Loved today's show!!! It was a variety and not...  positive\n",
       "freq                                                    5     25000"
      ]
     },
     "execution_count": 157,
     "metadata": {},
     "output_type": "execute_result"
    }
   ],
   "source": [
    "data.describe() #descriptive statistics"
   ]
  },
  {
   "cell_type": "code",
   "execution_count": 158,
   "id": "b612300e",
   "metadata": {
    "execution": {
     "iopub.execute_input": "2021-07-23T20:32:08.089244Z",
     "iopub.status.busy": "2021-07-23T20:32:08.088222Z",
     "iopub.status.idle": "2021-07-23T20:32:08.091770Z",
     "shell.execute_reply": "2021-07-23T20:32:08.091330Z",
     "shell.execute_reply.started": "2021-07-23T19:28:30.671288Z"
    },
    "papermill": {
     "duration": 0.064979,
     "end_time": "2021-07-23T20:32:08.091868",
     "exception": false,
     "start_time": "2021-07-23T20:32:08.026889",
     "status": "completed"
    },
    "tags": []
   },
   "outputs": [],
   "source": [
    "null_values = data.isnull().sum() #identifying missing values"
   ]
  },
  {
   "cell_type": "code",
   "execution_count": 159,
   "id": "047bfc07",
   "metadata": {
    "execution": {
     "iopub.execute_input": "2021-07-23T20:32:08.192466Z",
     "iopub.status.busy": "2021-07-23T20:32:08.191972Z",
     "iopub.status.idle": "2021-07-23T20:32:08.196598Z",
     "shell.execute_reply": "2021-07-23T20:32:08.196970Z",
     "shell.execute_reply.started": "2021-07-23T19:28:30.688065Z"
    },
    "papermill": {
     "duration": 0.056784,
     "end_time": "2021-07-23T20:32:08.197088",
     "exception": false,
     "start_time": "2021-07-23T20:32:08.140304",
     "status": "completed"
    },
    "tags": []
   },
   "outputs": [
    {
     "data": {
      "text/plain": [
       "review       0\n",
       "sentiment    0\n",
       "dtype: int64"
      ]
     },
     "execution_count": 159,
     "metadata": {},
     "output_type": "execute_result"
    }
   ],
   "source": [
    "null_values"
   ]
  },
  {
   "cell_type": "code",
   "execution_count": 160,
   "id": "ae4983d7",
   "metadata": {
    "execution": {
     "iopub.execute_input": "2021-07-23T20:32:08.298493Z",
     "iopub.status.busy": "2021-07-23T20:32:08.297995Z",
     "iopub.status.idle": "2021-07-23T20:32:08.302920Z",
     "shell.execute_reply": "2021-07-23T20:32:08.302265Z",
     "shell.execute_reply.started": "2021-07-23T19:28:30.699281Z"
    },
    "papermill": {
     "duration": 0.057292,
     "end_time": "2021-07-23T20:32:08.303063",
     "exception": false,
     "start_time": "2021-07-23T20:32:08.245771",
     "status": "completed"
    },
    "tags": []
   },
   "outputs": [
    {
     "name": "stdout",
     "output_type": "stream",
     "text": [
      "There are 0 missing values for review and 0 missing values for sentiment.\n"
     ]
    }
   ],
   "source": [
    "print('There are {} missing values for {} and {} missing values for {}.'.format(null_values[0],null_values.index[0],null_values[1],null_values.index[1]))"
   ]
  },
  {
   "cell_type": "code",
   "execution_count": 161,
   "id": "e1561acb",
   "metadata": {
    "execution": {
     "iopub.execute_input": "2021-07-23T20:32:08.423203Z",
     "iopub.status.busy": "2021-07-23T20:32:08.422525Z",
     "iopub.status.idle": "2021-07-23T20:32:08.567068Z",
     "shell.execute_reply": "2021-07-23T20:32:08.567634Z",
     "shell.execute_reply.started": "2021-07-23T19:28:30.71158Z"
    },
    "papermill": {
     "duration": 0.215623,
     "end_time": "2021-07-23T20:32:08.567826",
     "exception": false,
     "start_time": "2021-07-23T20:32:08.352203",
     "status": "completed"
    },
    "tags": []
   },
   "outputs": [
    {
     "name": "stdout",
     "output_type": "stream",
     "text": [
      "There are 418 duplicate reviews present in the dataset\n"
     ]
    }
   ],
   "source": [
    "num_duplicates = data.duplicated().sum() #identify duplicates\n",
    "print('There are {} duplicate reviews present in the dataset'.format(num_duplicates))"
   ]
  },
  {
   "cell_type": "code",
   "execution_count": 162,
   "id": "e47965a0",
   "metadata": {
    "execution": {
     "iopub.execute_input": "2021-07-23T20:32:08.677783Z",
     "iopub.status.busy": "2021-07-23T20:32:08.677279Z",
     "iopub.status.idle": "2021-07-23T20:32:08.691018Z",
     "shell.execute_reply": "2021-07-23T20:32:08.690605Z",
     "shell.execute_reply.started": "2021-07-23T19:28:30.887232Z"
    },
    "papermill": {
     "duration": 0.072788,
     "end_time": "2021-07-23T20:32:08.691127",
     "exception": false,
     "start_time": "2021-07-23T20:32:08.618339",
     "status": "completed"
    },
    "tags": []
   },
   "outputs": [
    {
     "data": {
      "text/html": [
       "<div>\n",
       "<style scoped>\n",
       "    .dataframe tbody tr th:only-of-type {\n",
       "        vertical-align: middle;\n",
       "    }\n",
       "\n",
       "    .dataframe tbody tr th {\n",
       "        vertical-align: top;\n",
       "    }\n",
       "\n",
       "    .dataframe thead th {\n",
       "        text-align: right;\n",
       "    }\n",
       "</style>\n",
       "<table border=\"1\" class=\"dataframe\">\n",
       "  <thead>\n",
       "    <tr style=\"text-align: right;\">\n",
       "      <th></th>\n",
       "      <th>review</th>\n",
       "      <th>sentiment</th>\n",
       "    </tr>\n",
       "  </thead>\n",
       "  <tbody>\n",
       "    <tr>\n",
       "      <th>34058</th>\n",
       "      <td>\"Go Fish\" garnered Rose Troche rightly or wron...</td>\n",
       "      <td>negative</td>\n",
       "    </tr>\n",
       "    <tr>\n",
       "      <th>47467</th>\n",
       "      <td>\"Go Fish\" garnered Rose Troche rightly or wron...</td>\n",
       "      <td>negative</td>\n",
       "    </tr>\n",
       "    <tr>\n",
       "      <th>29956</th>\n",
       "      <td>\"Three\" is a seriously dumb shipwreck movie. M...</td>\n",
       "      <td>negative</td>\n",
       "    </tr>\n",
       "    <tr>\n",
       "      <th>31488</th>\n",
       "      <td>\"Three\" is a seriously dumb shipwreck movie. M...</td>\n",
       "      <td>negative</td>\n",
       "    </tr>\n",
       "    <tr>\n",
       "      <th>47527</th>\n",
       "      <td>\"Witchery\" might just be the most incoherent a...</td>\n",
       "      <td>negative</td>\n",
       "    </tr>\n",
       "  </tbody>\n",
       "</table>\n",
       "</div>"
      ],
      "text/plain": [
       "                                                  review sentiment\n",
       "34058  \"Go Fish\" garnered Rose Troche rightly or wron...  negative\n",
       "47467  \"Go Fish\" garnered Rose Troche rightly or wron...  negative\n",
       "29956  \"Three\" is a seriously dumb shipwreck movie. M...  negative\n",
       "31488  \"Three\" is a seriously dumb shipwreck movie. M...  negative\n",
       "47527  \"Witchery\" might just be the most incoherent a...  negative"
      ]
     },
     "execution_count": 162,
     "metadata": {},
     "output_type": "execute_result"
    }
   ],
   "source": [
    "#view duplicate reviews\n",
    "review = data['review']\n",
    "duplicated_review = data[review.isin(review[review.duplicated()])].sort_values(\"review\")\n",
    "duplicated_review.head()"
   ]
  },
  {
   "cell_type": "code",
   "execution_count": 163,
   "id": "d1a297be",
   "metadata": {
    "execution": {
     "iopub.execute_input": "2021-07-23T20:32:08.798498Z",
     "iopub.status.busy": "2021-07-23T20:32:08.797803Z",
     "iopub.status.idle": "2021-07-23T20:32:08.939521Z",
     "shell.execute_reply": "2021-07-23T20:32:08.939098Z",
     "shell.execute_reply.started": "2021-07-23T19:28:30.915016Z"
    },
    "papermill": {
     "duration": 0.198665,
     "end_time": "2021-07-23T20:32:08.939637",
     "exception": false,
     "start_time": "2021-07-23T20:32:08.740972",
     "status": "completed"
    },
    "tags": []
   },
   "outputs": [],
   "source": [
    "#drop duplicate reviews\n",
    "data.drop_duplicates(inplace = True)"
   ]
  },
  {
   "cell_type": "code",
   "execution_count": 164,
   "id": "67c9050c",
   "metadata": {
    "execution": {
     "iopub.execute_input": "2021-07-23T20:32:09.042483Z",
     "iopub.status.busy": "2021-07-23T20:32:09.041975Z",
     "iopub.status.idle": "2021-07-23T20:32:09.046429Z",
     "shell.execute_reply": "2021-07-23T20:32:09.046786Z",
     "shell.execute_reply.started": "2021-07-23T19:28:31.067543Z"
    },
    "papermill": {
     "duration": 0.057898,
     "end_time": "2021-07-23T20:32:09.046916",
     "exception": false,
     "start_time": "2021-07-23T20:32:08.989018",
     "status": "completed"
    },
    "tags": []
   },
   "outputs": [
    {
     "name": "stdout",
     "output_type": "stream",
     "text": [
      "The dataset contains 49582 rows and 2 columns after removing duplicates\n"
     ]
    }
   ],
   "source": [
    "print('The dataset contains {} rows and {} columns after removing duplicates'.format(data.shape[0],data.shape[1]))"
   ]
  },
  {
   "cell_type": "code",
   "execution_count": 165,
   "id": "3828a095",
   "metadata": {
    "execution": {
     "iopub.execute_input": "2021-07-23T20:32:09.159709Z",
     "iopub.status.busy": "2021-07-23T20:32:09.159205Z",
     "iopub.status.idle": "2021-07-23T20:32:09.167465Z",
     "shell.execute_reply": "2021-07-23T20:32:09.166875Z",
     "shell.execute_reply.started": "2021-07-23T19:28:31.075108Z"
    },
    "papermill": {
     "duration": 0.07076,
     "end_time": "2021-07-23T20:32:09.167574",
     "exception": false,
     "start_time": "2021-07-23T20:32:09.096814",
     "status": "completed"
    },
    "tags": []
   },
   "outputs": [],
   "source": [
    "stop = stopwords.words('english')\n",
    "wl = WordNetLemmatizer()"
   ]
  },
  {
   "cell_type": "code",
   "execution_count": 166,
   "id": "0e4f1ec2",
   "metadata": {
    "execution": {
     "iopub.execute_input": "2021-07-23T20:32:09.280985Z",
     "iopub.status.busy": "2021-07-23T20:32:09.279654Z",
     "iopub.status.idle": "2021-07-23T20:32:09.282397Z",
     "shell.execute_reply": "2021-07-23T20:32:09.281995Z",
     "shell.execute_reply.started": "2021-07-23T19:28:31.087886Z"
    },
    "papermill": {
     "duration": 0.065058,
     "end_time": "2021-07-23T20:32:09.282498",
     "exception": false,
     "start_time": "2021-07-23T20:32:09.217440",
     "status": "completed"
    },
    "tags": []
   },
   "outputs": [],
   "source": [
    "mapping = {\"ain't\": \"is not\", \"aren't\": \"are not\",\"can't\": \"cannot\", \n",
    "           \"'cause\": \"because\", \"could've\": \"could have\", \"couldn't\": \"could not\", \n",
    "           \"didn't\": \"did not\",  \"doesn't\": \"does not\", \"don't\": \"do not\", \"hadn't\": \"had not\", \n",
    "           \"hasn't\": \"has not\", \"haven't\": \"have not\", \"he'd\": \"he would\",\"he'll\": \"he will\", \n",
    "           \"he's\": \"he is\", \"how'd\": \"how did\", \"how'd'y\": \"how do you\", \"how'll\": \"how will\", \n",
    "           \"how's\": \"how is\",  \"I'd\": \"I would\", \"I'd've\": \"I would have\", \"I'll\": \"I will\", \n",
    "           \"I'll've\": \"I will have\",\"I'm\": \"I am\", \"I've\": \"I have\", \"i'd\": \"i would\", \n",
    "           \"i'd've\": \"i would have\", \"i'll\": \"i will\",  \"i'll've\": \"i will have\",\n",
    "           \"i'm\": \"i am\", \"i've\": \"i have\", \"isn't\": \"is not\", \"it'd\": \"it would\", \n",
    "           \"it'd've\": \"it would have\", \"it'll\": \"it will\", \"it'll've\": \"it will have\",\n",
    "           \"it's\": \"it is\", \"let's\": \"let us\", \"ma'am\": \"madam\", \"mayn't\": \"may not\", \n",
    "           \"might've\": \"might have\",\"mightn't\": \"might not\",\"mightn't've\": \"might not have\", \n",
    "           \"must've\": \"must have\", \"mustn't\": \"must not\", \"mustn't've\": \"must not have\", \n",
    "           \"needn't\": \"need not\", \"needn't've\": \"need not have\",\"o'clock\": \"of the clock\", \n",
    "           \"oughtn't\": \"ought not\", \"oughtn't've\": \"ought not have\", \"shan't\": \"shall not\", \n",
    "           \"sha'n't\": \"shall not\", \"shan't've\": \"shall not have\", \"she'd\": \"she would\", \n",
    "           \"she'd've\": \"she would have\", \"she'll\": \"she will\", \"she'll've\": \"she will have\", \n",
    "           \"she's\": \"she is\", \"should've\": \"should have\", \"shouldn't\": \"should not\", \n",
    "           \"shouldn't've\": \"should not have\", \"so've\": \"so have\",\"so's\": \"so as\", \"this's\": \"this is\",\n",
    "           \"that'd\": \"that would\", \"that'd've\": \"that would have\", \"that's\": \"that is\", \n",
    "           \"there'd\": \"there would\", \"there'd've\": \"there would have\", \"there's\": \"there is\", \n",
    "           \"here's\": \"here is\",\"they'd\": \"they would\", \"they'd've\": \"they would have\", \n",
    "           \"they'll\": \"they will\", \"they'll've\": \"they will have\", \"they're\": \"they are\", \n",
    "           \"they've\": \"they have\", \"to've\": \"to have\", \"wasn't\": \"was not\", \"we'd\": \"we would\", \n",
    "           \"we'd've\": \"we would have\", \"we'll\": \"we will\", \"we'll've\": \"we will have\", \n",
    "           \"we're\": \"we are\", \"we've\": \"we have\", \"weren't\": \"were not\", \n",
    "           \"what'll\": \"what will\", \"what'll've\": \"what will have\",\"what're\": \"what are\",  \n",
    "           \"what's\": \"what is\", \"what've\": \"what have\", \"when's\": \"when is\", \"when've\": \"when have\", \n",
    "           \"where'd\": \"where did\", \"where's\": \"where is\", \"where've\": \"where have\", \"who'll\": \"who will\", \n",
    "           \"who'll've\": \"who will have\", \"who's\": \"who is\", \"who've\": \"who have\", \"why's\": \"why is\", \n",
    "           \"why've\": \"why have\", \"will've\": \"will have\", \"won't\": \"will not\", \"won't've\": \"will not have\", \n",
    "           \"would've\": \"would have\", \"wouldn't\": \"would not\", \"wouldn't've\": \"would not have\", \n",
    "           \"y'all\": \"you all\", \"y'all'd\": \"you all would\",\"y'all'd've\": \"you all would have\",\n",
    "           \"y'all're\": \"you all are\",\"y'all've\": \"you all have\",\"you'd\": \"you would\", \n",
    "           \"you'd've\": \"you would have\", \"you'll\": \"you will\", \"you'll've\": \"you will have\", \n",
    "           \"you're\": \"you are\", \"you've\": \"you have\" }"
   ]
  },
  {
   "cell_type": "code",
   "execution_count": 167,
   "id": "88c3a4d1",
   "metadata": {
    "execution": {
     "iopub.execute_input": "2021-07-23T20:32:09.389169Z",
     "iopub.status.busy": "2021-07-23T20:32:09.388552Z",
     "iopub.status.idle": "2021-07-23T20:32:09.392077Z",
     "shell.execute_reply": "2021-07-23T20:32:09.391668Z",
     "shell.execute_reply.started": "2021-07-23T19:28:31.10738Z"
    },
    "papermill": {
     "duration": 0.060059,
     "end_time": "2021-07-23T20:32:09.392178",
     "exception": false,
     "start_time": "2021-07-23T20:32:09.332119",
     "status": "completed"
    },
    "tags": []
   },
   "outputs": [],
   "source": [
    "def clean_text(text,lemmatize = True):\n",
    "    soup = BeautifulSoup(text, \"html.parser\") #remove html tags\n",
    "    text = soup.get_text()\n",
    "    l = [t if t in mapping else t for t in text.split(\" \")]\n",
    "    text = ' '.join([mapping[t] if t in mapping else t for t in text.split(\" \")]) #expanding chatwords and contracts clearing contractions\n",
    "    emoji_clean= re.compile(\"[\"\n",
    "                           u\"\\U0001F600-\\U0001F64F\"  # emoticons\n",
    "                           u\"\\U0001F300-\\U0001F5FF\"  # symbols & pictographs\n",
    "                           u\"\\U0001F680-\\U0001F6FF\"  # transport & map symbols\n",
    "                           u\"\\U0001F1E0-\\U0001F1FF\"  # flags (iOS)\n",
    "                           u\"\\U00002702-\\U000027B0\"\n",
    "                           u\"\\U000024C2-\\U0001F251\"\n",
    "                           \"]+\", flags=re.UNICODE)\n",
    "    text = emoji_clean.sub(r'',text)\n",
    "    text = re.sub(r'\\.(?=\\S)', '. ',text) #add space after full stop\n",
    "    text = re.sub(r'http\\S+', '', text) #remove urls\n",
    "    text = \"\".join([word.lower() for word in text if word not in string.punctuation]) #remove punctuation\n",
    "    tokens = re.split('\\W+', text) #create tokens\n",
    "    if lemmatize:\n",
    "        text = \" \".join([wl.lemmatize(word) for word in text.split() if word not in stop and word.isalpha()]) #lemmatize\n",
    "    else:\n",
    "        text = \" \".join([word for word in text.split() if word not in stop and word.isalpha()]) \n",
    "    return text"
   ]
  },
  {
   "cell_type": "code",
   "execution_count": 168,
   "id": "d1ab1a1f",
   "metadata": {
    "execution": {
     "iopub.execute_input": "2021-07-23T20:32:09.497254Z",
     "iopub.status.busy": "2021-07-23T20:32:09.496066Z",
     "iopub.status.idle": "2021-07-23T20:32:09.498394Z",
     "shell.execute_reply": "2021-07-23T20:32:09.498842Z",
     "shell.execute_reply.started": "2021-07-23T19:28:31.120901Z"
    },
    "papermill": {
     "duration": 0.05709,
     "end_time": "2021-07-23T20:32:09.498979",
     "exception": false,
     "start_time": "2021-07-23T20:32:09.441889",
     "status": "completed"
    },
    "tags": []
   },
   "outputs": [],
   "source": [
    "data_copy = data.copy()"
   ]
  },
  {
   "cell_type": "code",
   "execution_count": 169,
   "id": "8c44b697",
   "metadata": {
    "execution": {
     "iopub.execute_input": "2021-07-23T20:32:09.608019Z",
     "iopub.status.busy": "2021-07-23T20:32:09.603550Z",
     "iopub.status.idle": "2021-07-23T20:33:32.019183Z",
     "shell.execute_reply": "2021-07-23T20:33:32.019605Z",
     "shell.execute_reply.started": "2021-07-23T19:28:31.133651Z"
    },
    "papermill": {
     "duration": 82.470348,
     "end_time": "2021-07-23T20:33:32.019781",
     "exception": false,
     "start_time": "2021-07-23T20:32:09.549433",
     "status": "completed"
    },
    "tags": []
   },
   "outputs": [
    {
     "name": "stderr",
     "output_type": "stream",
     "text": [
      "/opt/homebrew/lib/python3.9/site-packages/bs4/__init__.py:435: MarkupResemblesLocatorWarning: The input looks more like a filename than markup. You may want to open this file and pass the filehandle into Beautiful Soup.\n",
      "  warnings.warn(\n"
     ]
    }
   ],
   "source": [
    "data['review']=data['review'].apply(clean_text,lemmatize = True)"
   ]
  },
  {
   "cell_type": "code",
   "execution_count": 170,
   "id": "2fd7890f",
   "metadata": {
    "execution": {
     "iopub.execute_input": "2021-07-23T20:33:32.162779Z",
     "iopub.status.busy": "2021-07-23T20:33:32.141693Z",
     "iopub.status.idle": "2021-07-23T20:33:32.165348Z",
     "shell.execute_reply": "2021-07-23T20:33:32.164906Z",
     "shell.execute_reply.started": "2021-07-23T19:29:53.993849Z"
    },
    "papermill": {
     "duration": 0.092064,
     "end_time": "2021-07-23T20:33:32.165479",
     "exception": false,
     "start_time": "2021-07-23T20:33:32.073415",
     "status": "completed"
    },
    "tags": []
   },
   "outputs": [],
   "source": [
    "#converting target variable to numeric labels\n",
    "data.sentiment = [ 1 if each == \"positive\" else 0 for each in data.sentiment]"
   ]
  },
  {
   "cell_type": "code",
   "execution_count": 171,
   "id": "a8836143",
   "metadata": {
    "execution": {
     "iopub.execute_input": "2021-07-23T20:33:32.280070Z",
     "iopub.status.busy": "2021-07-23T20:33:32.279458Z",
     "iopub.status.idle": "2021-07-23T20:33:32.285064Z",
     "shell.execute_reply": "2021-07-23T20:33:32.285498Z",
     "shell.execute_reply.started": "2021-07-23T19:29:54.034131Z"
    },
    "papermill": {
     "duration": 0.064492,
     "end_time": "2021-07-23T20:33:32.285639",
     "exception": false,
     "start_time": "2021-07-23T20:33:32.221147",
     "status": "completed"
    },
    "scrolled": true,
    "tags": []
   },
   "outputs": [
    {
     "data": {
      "text/html": [
       "<div>\n",
       "<style scoped>\n",
       "    .dataframe tbody tr th:only-of-type {\n",
       "        vertical-align: middle;\n",
       "    }\n",
       "\n",
       "    .dataframe tbody tr th {\n",
       "        vertical-align: top;\n",
       "    }\n",
       "\n",
       "    .dataframe thead th {\n",
       "        text-align: right;\n",
       "    }\n",
       "</style>\n",
       "<table border=\"1\" class=\"dataframe\">\n",
       "  <thead>\n",
       "    <tr style=\"text-align: right;\">\n",
       "      <th></th>\n",
       "      <th>review</th>\n",
       "      <th>sentiment</th>\n",
       "    </tr>\n",
       "  </thead>\n",
       "  <tbody>\n",
       "    <tr>\n",
       "      <th>0</th>\n",
       "      <td>one reviewer mentioned watching oz episode hoo...</td>\n",
       "      <td>1</td>\n",
       "    </tr>\n",
       "    <tr>\n",
       "      <th>1</th>\n",
       "      <td>wonderful little production filming technique ...</td>\n",
       "      <td>1</td>\n",
       "    </tr>\n",
       "    <tr>\n",
       "      <th>2</th>\n",
       "      <td>thought wonderful way spend time hot summer we...</td>\n",
       "      <td>1</td>\n",
       "    </tr>\n",
       "    <tr>\n",
       "      <th>3</th>\n",
       "      <td>basically family little boy jake think zombie ...</td>\n",
       "      <td>0</td>\n",
       "    </tr>\n",
       "    <tr>\n",
       "      <th>4</th>\n",
       "      <td>petter matteis love time money visually stunni...</td>\n",
       "      <td>1</td>\n",
       "    </tr>\n",
       "  </tbody>\n",
       "</table>\n",
       "</div>"
      ],
      "text/plain": [
       "                                              review  sentiment\n",
       "0  one reviewer mentioned watching oz episode hoo...          1\n",
       "1  wonderful little production filming technique ...          1\n",
       "2  thought wonderful way spend time hot summer we...          1\n",
       "3  basically family little boy jake think zombie ...          0\n",
       "4  petter matteis love time money visually stunni...          1"
      ]
     },
     "execution_count": 171,
     "metadata": {},
     "output_type": "execute_result"
    }
   ],
   "source": [
    "#after converting labels\n",
    "data.head()"
   ]
  },
  {
   "cell_type": "markdown",
   "id": "7c55e339",
   "metadata": {
    "papermill": {
     "duration": 0.054116,
     "end_time": "2021-07-23T20:33:32.394820",
     "exception": false,
     "start_time": "2021-07-23T20:33:32.340704",
     "status": "completed"
    },
    "tags": []
   },
   "source": [
    "# **3. Exploratory data analysis** "
   ]
  },
  {
   "cell_type": "code",
   "execution_count": 172,
   "id": "dac0dedf",
   "metadata": {
    "execution": {
     "iopub.execute_input": "2021-07-23T20:33:32.775339Z",
     "iopub.status.busy": "2021-07-23T20:33:32.774529Z",
     "iopub.status.idle": "2021-07-23T20:33:32.782986Z",
     "shell.execute_reply": "2021-07-23T20:33:32.783390Z",
     "shell.execute_reply.started": "2021-07-23T19:29:54.181715Z"
    },
    "papermill": {
     "duration": 0.070624,
     "end_time": "2021-07-23T20:33:32.783518",
     "exception": false,
     "start_time": "2021-07-23T20:33:32.712894",
     "status": "completed"
    },
    "tags": []
   },
   "outputs": [
    {
     "name": "stdout",
     "output_type": "stream",
     "text": [
      "Positive reviews are 24698 i.e. 49.81 % of the dataset\n",
      "Negative reviews are 24884 i.e. 50.19 % of the dataset\n"
     ]
    }
   ],
   "source": [
    "print('Positive reviews are', (round(data['sentiment'].value_counts()[0])),'i.e.', round(data['sentiment'].value_counts()[0]/len(data) * 100,2), '% of the dataset')\n",
    "print('Negative reviews are', (round(data['sentiment'].value_counts()[1])),'i.e.',round(data['sentiment'].value_counts()[1]/len(data) * 100,2), '% of the dataset')"
   ]
  },
  {
   "cell_type": "code",
   "execution_count": 173,
   "id": "016e345f",
   "metadata": {
    "execution": {
     "iopub.execute_input": "2021-07-23T20:34:37.756042Z",
     "iopub.status.busy": "2021-07-23T20:34:37.739295Z",
     "iopub.status.idle": "2021-07-23T20:34:38.120322Z",
     "shell.execute_reply": "2021-07-23T20:34:38.119679Z",
     "shell.execute_reply.started": "2021-07-23T19:30:57.653986Z"
    },
    "papermill": {
     "duration": 0.522197,
     "end_time": "2021-07-23T20:34:38.120471",
     "exception": false,
     "start_time": "2021-07-23T20:34:37.598274",
     "status": "completed"
    },
    "tags": []
   },
   "outputs": [
    {
     "data": {
      "image/png": "[encoded data removed]",
      "text/plain": [
       "<Figure size 864x576 with 2 Axes>"
      ]
     },
     "metadata": {},
     "output_type": "display_data"
    }
   ],
   "source": [
    "fig,(ax1,ax2)=plt.subplots(1,2,figsize=(12,8))\n",
    "text_len=positive_data.str.len()\n",
    "ax1.hist(text_len,color='green')\n",
    "ax1.set_title('Positive Reviews')\n",
    "ax1.set_xlabel('Number of Characters')\n",
    "ax1.set_ylabel('Count')\n",
    "text_len=negative_data.str.len()\n",
    "ax2.hist(text_len,color='red')\n",
    "ax2.set_title('Negative Reviews')\n",
    "ax2.set_xlabel('Number of Characters')\n",
    "ax2.set_ylabel('Count')\n",
    "fig.suptitle('Number of characters in texts')\n",
    "plt.show()"
   ]
  },
  {
   "cell_type": "code",
   "execution_count": 174,
   "id": "75b06eb5",
   "metadata": {
    "execution": {
     "iopub.execute_input": "2021-07-23T20:34:38.412045Z",
     "iopub.status.busy": "2021-07-23T20:34:38.385021Z",
     "iopub.status.idle": "2021-07-23T20:34:39.772604Z",
     "shell.execute_reply": "2021-07-23T20:34:39.773377Z",
     "shell.execute_reply.started": "2021-07-23T19:30:58.080204Z"
    },
    "papermill": {
     "duration": 1.546686,
     "end_time": "2021-07-23T20:34:39.773549",
     "exception": false,
     "start_time": "2021-07-23T20:34:38.226863",
     "status": "completed"
    },
    "tags": []
   },
   "outputs": [
    {
     "data": {
      "image/png": "[encoded data removed]",
      "text/plain": [
       "<Figure size 864x576 with 2 Axes>"
      ]
     },
     "metadata": {},
     "output_type": "display_data"
    }
   ],
   "source": [
    "fig,(ax1,ax2)=plt.subplots(1,2,figsize=(12,8))\n",
    "\n",
    "text_len=positive_data.str.split().map(lambda x: len(x))\n",
    "ax1.hist(text_len,color='green')\n",
    "ax1.set_title('Positive Reviews')\n",
    "ax1.set_xlabel('Number of Words')\n",
    "ax1.set_ylabel('Count')\n",
    "text_len=negative_data.str.split().map(lambda x: len(x))\n",
    "ax2.hist(text_len,color='red')\n",
    "ax2.set_title('Negative Reviews')\n",
    "ax2.set_xlabel('Number of Words')\n",
    "ax2.set_ylabel('Count')\n",
    "fig.suptitle('Number of words in texts')\n",
    "plt.show()"
   ]
  },
  {
   "cell_type": "code",
   "execution_count": 175,
   "id": "18c59944",
   "metadata": {
    "execution": {
     "iopub.execute_input": "2021-07-23T20:34:46.204624Z",
     "iopub.status.busy": "2021-07-23T20:34:46.203746Z",
     "iopub.status.idle": "2021-07-23T20:34:47.731843Z",
     "shell.execute_reply": "2021-07-23T20:34:47.732237Z",
     "shell.execute_reply.started": "2021-07-23T19:31:05.007858Z"
    },
    "papermill": {
     "duration": 1.691292,
     "end_time": "2021-07-23T20:34:47.732406",
     "exception": false,
     "start_time": "2021-07-23T20:34:46.041114",
     "status": "completed"
    },
    "tags": []
   },
   "outputs": [
    {
     "data": {
      "text/plain": [
       "['one', 'reviewer', 'mentioned', 'watching', 'oz']"
      ]
     },
     "execution_count": 175,
     "metadata": {},
     "output_type": "execute_result"
    }
   ],
   "source": [
    "def get_corpus(text):\n",
    "    words = []\n",
    "    for i in text:\n",
    "        for j in i.split():\n",
    "            words.append(j.strip())\n",
    "    return words\n",
    "corpus = get_corpus(data.review)\n",
    "corpus[:5]"
   ]
  },
  {
   "cell_type": "code",
   "execution_count": 176,
   "id": "a215bb9f",
   "metadata": {
    "execution": {
     "iopub.execute_input": "2021-07-23T20:34:48.821910Z",
     "iopub.status.busy": "2021-07-23T20:34:48.811737Z",
     "iopub.status.idle": "2021-07-23T20:34:48.834805Z",
     "shell.execute_reply": "2021-07-23T20:34:48.834117Z",
     "shell.execute_reply.started": "2021-07-23T19:31:06.278403Z"
    },
    "papermill": {
     "duration": 0.997595,
     "end_time": "2021-07-23T20:34:48.835012",
     "exception": false,
     "start_time": "2021-07-23T20:34:47.837417",
     "status": "completed"
    },
    "tags": []
   },
   "outputs": [
    {
     "data": {
      "text/html": [
       "<div>\n",
       "<style scoped>\n",
       "    .dataframe tbody tr th:only-of-type {\n",
       "        vertical-align: middle;\n",
       "    }\n",
       "\n",
       "    .dataframe tbody tr th {\n",
       "        vertical-align: top;\n",
       "    }\n",
       "\n",
       "    .dataframe thead th {\n",
       "        text-align: right;\n",
       "    }\n",
       "</style>\n",
       "<table border=\"1\" class=\"dataframe\">\n",
       "  <thead>\n",
       "    <tr style=\"text-align: right;\">\n",
       "      <th></th>\n",
       "      <th>corpus</th>\n",
       "      <th>countv</th>\n",
       "    </tr>\n",
       "  </thead>\n",
       "  <tbody>\n",
       "    <tr>\n",
       "      <th>0</th>\n",
       "      <td>movie</td>\n",
       "      <td>100605</td>\n",
       "    </tr>\n",
       "    <tr>\n",
       "      <th>1</th>\n",
       "      <td>film</td>\n",
       "      <td>91130</td>\n",
       "    </tr>\n",
       "    <tr>\n",
       "      <th>2</th>\n",
       "      <td>one</td>\n",
       "      <td>53525</td>\n",
       "    </tr>\n",
       "    <tr>\n",
       "      <th>3</th>\n",
       "      <td>like</td>\n",
       "      <td>39746</td>\n",
       "    </tr>\n",
       "    <tr>\n",
       "      <th>4</th>\n",
       "      <td>time</td>\n",
       "      <td>30091</td>\n",
       "    </tr>\n",
       "    <tr>\n",
       "      <th>5</th>\n",
       "      <td>would</td>\n",
       "      <td>30037</td>\n",
       "    </tr>\n",
       "    <tr>\n",
       "      <th>6</th>\n",
       "      <td>good</td>\n",
       "      <td>28905</td>\n",
       "    </tr>\n",
       "    <tr>\n",
       "      <th>7</th>\n",
       "      <td>character</td>\n",
       "      <td>27801</td>\n",
       "    </tr>\n",
       "    <tr>\n",
       "      <th>8</th>\n",
       "      <td>story</td>\n",
       "      <td>24600</td>\n",
       "    </tr>\n",
       "    <tr>\n",
       "      <th>9</th>\n",
       "      <td>even</td>\n",
       "      <td>24440</td>\n",
       "    </tr>\n",
       "  </tbody>\n",
       "</table>\n",
       "</div>"
      ],
      "text/plain": [
       "      corpus  countv\n",
       "0      movie  100605\n",
       "1       film   91130\n",
       "2        one   53525\n",
       "3       like   39746\n",
       "4       time   30091\n",
       "5      would   30037\n",
       "6       good   28905\n",
       "7  character   27801\n",
       "8      story   24600\n",
       "9       even   24440"
      ]
     },
     "execution_count": 176,
     "metadata": {},
     "output_type": "execute_result"
    }
   ],
   "source": [
    "from collections import Counter\n",
    "counter = Counter(corpus)\n",
    "most_common = counter.most_common(10)\n",
    "most_common = pd.DataFrame(most_common,columns = ['corpus','countv'])\n",
    "most_common"
   ]
  },
  {
   "cell_type": "code",
   "execution_count": 177,
   "id": "9dfda404",
   "metadata": {
    "execution": {
     "iopub.execute_input": "2021-07-23T20:34:49.052049Z",
     "iopub.status.busy": "2021-07-23T20:34:49.051298Z",
     "iopub.status.idle": "2021-07-23T20:34:49.054054Z",
     "shell.execute_reply": "2021-07-23T20:34:49.053645Z",
     "shell.execute_reply.started": "2021-07-23T19:31:07.218251Z"
    },
    "papermill": {
     "duration": 0.113474,
     "end_time": "2021-07-23T20:34:49.054165",
     "exception": false,
     "start_time": "2021-07-23T20:34:48.940691",
     "status": "completed"
    },
    "tags": []
   },
   "outputs": [],
   "source": [
    "most_common = most_common.sort_values('countv')"
   ]
  },
  {
   "cell_type": "code",
   "execution_count": 178,
   "id": "2bd97316",
   "metadata": {
    "execution": {
     "iopub.execute_input": "2021-07-23T20:34:49.412396Z",
     "iopub.status.busy": "2021-07-23T20:34:49.395181Z",
     "iopub.status.idle": "2021-07-23T20:34:49.648693Z",
     "shell.execute_reply": "2021-07-23T20:34:49.648228Z",
     "shell.execute_reply.started": "2021-07-23T19:31:07.224994Z"
    },
    "papermill": {
     "duration": 0.46385,
     "end_time": "2021-07-23T20:34:49.648809",
     "exception": false,
     "start_time": "2021-07-23T20:34:49.184959",
     "status": "completed"
    },
    "tags": []
   },
   "outputs": [
    {
     "data": {
      "image/png": "[encoded data removed]",
      "text/plain": [
       "<Figure size 720x720 with 1 Axes>"
      ]
     },
     "metadata": {},
     "output_type": "display_data"
    }
   ],
   "source": [
    "plt.figure(figsize =(10,10))\n",
    "plt.yticks(range(len(most_common)), list(most_common.corpus))\n",
    "plt.barh(range(len(most_common)), list(most_common.countv),align='center',color = 'blue')\n",
    "plt.title('Most common words in the dataset')\n",
    "plt.show()\n"
   ]
  },
  {
   "cell_type": "code",
   "execution_count": 179,
   "id": "1b0f666b",
   "metadata": {
    "execution": {
     "iopub.execute_input": "2021-07-23T20:34:49.869084Z",
     "iopub.status.busy": "2021-07-23T20:34:49.868306Z",
     "iopub.status.idle": "2021-07-23T20:34:49.870994Z",
     "shell.execute_reply": "2021-07-23T20:34:49.870516Z",
     "shell.execute_reply.started": "2021-07-23T19:31:07.593191Z"
    },
    "papermill": {
     "duration": 0.115918,
     "end_time": "2021-07-23T20:34:49.871103",
     "exception": false,
     "start_time": "2021-07-23T20:34:49.755185",
     "status": "completed"
    },
    "tags": []
   },
   "outputs": [],
   "source": [
    "def get_ngrams(review, n, g):\n",
    "    vec = CountVectorizer(ngram_range=(g, g)).fit(review)\n",
    "    bag_of_words = vec.transform(review) #sparse matrix of count_vectorizer\n",
    "    sum_words = bag_of_words.sum(axis=0) #total number of words\n",
    "    sum_words = np.array(sum_words)[0].tolist() #convert to list\n",
    "    words_freq = [(word, sum_words[idx]) for word, idx in vec.vocabulary_.items()] #get word freqency for word location in count vec\n",
    "    words_freq =sorted(words_freq, key = lambda x: x[1], reverse=True) #key is used to perform sorting using word_freqency \n",
    "    return words_freq[:n]"
   ]
  },
  {
   "cell_type": "code",
   "execution_count": 180,
   "id": "31835bde",
   "metadata": {
    "execution": {
     "iopub.execute_input": "2021-07-23T20:34:50.105913Z",
     "iopub.status.busy": "2021-07-23T20:34:50.105082Z",
     "iopub.status.idle": "2021-07-23T20:35:04.132742Z",
     "shell.execute_reply": "2021-07-23T20:35:04.131878Z",
     "shell.execute_reply.started": "2021-07-23T19:31:07.602858Z"
    },
    "papermill": {
     "duration": 14.15621,
     "end_time": "2021-07-23T20:35:04.132903",
     "exception": false,
     "start_time": "2021-07-23T20:34:49.976693",
     "status": "completed"
    },
    "tags": []
   },
   "outputs": [
    {
     "data": {
      "image/png": "[encoded data removed]",
      "text/plain": [
       "<Figure size 2160x1080 with 2 Axes>"
      ]
     },
     "metadata": {},
     "output_type": "display_data"
    }
   ],
   "source": [
    "fig,(ax1,ax2)=plt.subplots(1,2,figsize=(30,15))\n",
    "uni_positive = get_ngrams(positive_data,20,1)\n",
    "uni_positive = dict(uni_positive)\n",
    "temp = pd.DataFrame(list(uni_positive.items()), columns = [\"Common_words\" , 'Count'])\n",
    "sns.barplot(data = temp, x=\"Count\", y=\"Common_words\", orient='h',ax = ax1)\n",
    "ax1.set_title('Positive reviews')\n",
    "uni_negative = get_ngrams(negative_data,20,1)\n",
    "uni_negative = dict(uni_negative)\n",
    "temp = pd.DataFrame(list(uni_negative.items()), columns = [\"Common_words\" , 'Count'])\n",
    "sns.barplot(data = temp, x=\"Count\", y=\"Common_words\", orient='h',ax = ax2)\n",
    "ax2.set_title('Negative reviews')\n",
    "fig.suptitle('Unigram analysis for positive and negative reviews')\n",
    "plt.show()\n"
   ]
  },
  {
   "cell_type": "code",
   "execution_count": 181,
   "id": "58019c65",
   "metadata": {
    "execution": {
     "iopub.execute_input": "2021-07-23T20:35:04.383921Z",
     "iopub.status.busy": "2021-07-23T20:35:04.382931Z",
     "iopub.status.idle": "2021-07-23T20:35:42.963905Z",
     "shell.execute_reply": "2021-07-23T20:35:42.964397Z",
     "shell.execute_reply.started": "2021-07-23T19:31:21.106012Z"
    },
    "papermill": {
     "duration": 38.710431,
     "end_time": "2021-07-23T20:35:42.964551",
     "exception": false,
     "start_time": "2021-07-23T20:35:04.254120",
     "status": "completed"
    },
    "tags": []
   },
   "outputs": [
    {
     "data": {
      "image/png": "[encoded data removed]",
      "text/plain": [
       "<Figure size 2160x1080 with 2 Axes>"
      ]
     },
     "metadata": {},
     "output_type": "display_data"
    }
   ],
   "source": [
    "fig,(ax1,ax2)=plt.subplots(1,2,figsize=(30,15))\n",
    "bi_positive = get_ngrams(positive_data,20,2)\n",
    "bi_positive = dict(bi_positive)\n",
    "temp = pd.DataFrame(list(bi_positive.items()), columns = [\"Common_words\" , 'Count'])\n",
    "sns.barplot(data = temp, x=\"Count\", y=\"Common_words\", orient='h',ax = ax1)\n",
    "ax1.set_title('Positive reviews')\n",
    "bi_negative = get_ngrams(negative_data,20,2)\n",
    "bi_negative = dict(bi_negative)\n",
    "temp = pd.DataFrame(list(bi_negative.items()), columns = [\"Common_words\" , 'Count'])\n",
    "sns.barplot(data = temp, x=\"Count\", y=\"Common_words\", orient='h',ax = ax2)\n",
    "ax2.set_title('Negative reviews')\n",
    "fig.suptitle('Bigram analysis for positive and negative reviews')\n",
    "plt.show()"
   ]
  },
  {
   "cell_type": "code",
   "execution_count": 182,
   "id": "cacce7be",
   "metadata": {
    "execution": {
     "iopub.execute_input": "2021-07-23T20:35:43.210959Z",
     "iopub.status.busy": "2021-07-23T20:35:43.204544Z",
     "iopub.status.idle": "2021-07-23T20:36:33.385969Z",
     "shell.execute_reply": "2021-07-23T20:36:33.386446Z",
     "shell.execute_reply.started": "2021-07-23T19:32:01.202796Z"
    },
    "papermill": {
     "duration": 50.310965,
     "end_time": "2021-07-23T20:36:33.386596",
     "exception": false,
     "start_time": "2021-07-23T20:35:43.075631",
     "status": "completed"
    },
    "tags": []
   },
   "outputs": [
    {
     "data": {
      "image/png": "[encoded data removed]",
      "text/plain": [
       "<Figure size 2160x1080 with 2 Axes>"
      ]
     },
     "metadata": {},
     "output_type": "display_data"
    }
   ],
   "source": [
    "fig,(ax1,ax2)=plt.subplots(1,2,figsize=(30,15))\n",
    "tri_positive = get_ngrams(positive_data,20,3)\n",
    "tri_positive = dict(tri_positive)\n",
    "temp = pd.DataFrame(list(tri_positive.items()), columns = [\"Common_words\" , 'Count'])\n",
    "sns.barplot(data = temp, x=\"Count\", y=\"Common_words\", orient='h',ax = ax1)\n",
    "ax1.set_title('Positive reviews')\n",
    "tri_negative = get_ngrams(negative_data,20,3)\n",
    "tri_negative = dict(tri_negative)\n",
    "temp = pd.DataFrame(list(tri_negative.items()), columns = [\"Common_words\" , 'Count'])\n",
    "sns.barplot(data = temp, x=\"Count\", y=\"Common_words\", orient='h',ax = ax2)\n",
    "ax2.set_title('Negative reviews')\n",
    "fig.suptitle('Trigram analysis for positive and negative reviews')\n",
    "plt.show()"
   ]
  },
  {
   "cell_type": "markdown",
   "id": "8d285ca8",
   "metadata": {
    "papermill": {
     "duration": 0.113328,
     "end_time": "2021-07-23T20:36:33.613240",
     "exception": false,
     "start_time": "2021-07-23T20:36:33.499912",
     "status": "completed"
    },
    "tags": []
   },
   "source": [
    "# **4. Predictive Modelling using Machine Learning** "
   ]
  },
  {
   "cell_type": "code",
   "execution_count": 183,
   "id": "971bfcdb",
   "metadata": {
    "execution": {
     "iopub.execute_input": "2021-07-23T20:36:33.848879Z",
     "iopub.status.busy": "2021-07-23T20:36:33.848150Z",
     "iopub.status.idle": "2021-07-23T20:36:33.856185Z",
     "shell.execute_reply": "2021-07-23T20:36:33.856585Z",
     "shell.execute_reply.started": "2021-07-23T19:32:52.811909Z"
    },
    "papermill": {
     "duration": 0.129433,
     "end_time": "2021-07-23T20:36:33.856715",
     "exception": false,
     "start_time": "2021-07-23T20:36:33.727282",
     "status": "completed"
    },
    "tags": []
   },
   "outputs": [],
   "source": [
    "#splitting into train and test\n",
    "train, test= train_test_split(data, test_size=0.2, random_state=42)\n",
    "Xtrain, ytrain = train['review'], train['sentiment']\n",
    "Xtest, ytest = test['review'], test['sentiment']"
   ]
  },
  {
   "cell_type": "code",
   "execution_count": 184,
   "id": "b456281f",
   "metadata": {
    "execution": {
     "iopub.execute_input": "2021-07-23T20:36:34.126517Z",
     "iopub.status.busy": "2021-07-23T20:36:34.121376Z",
     "iopub.status.idle": "2021-07-23T20:36:47.258573Z",
     "shell.execute_reply": "2021-07-23T20:36:47.257809Z",
     "shell.execute_reply.started": "2021-07-23T19:32:52.834344Z"
    },
    "papermill": {
     "duration": 13.289633,
     "end_time": "2021-07-23T20:36:47.258766",
     "exception": false,
     "start_time": "2021-07-23T20:36:33.969133",
     "status": "completed"
    },
    "tags": []
   },
   "outputs": [],
   "source": [
    "#Vectorizing data\n",
    "\n",
    "tfidf_vect = TfidfVectorizer() #tfidfVectorizer\n",
    "Xtrain_tfidf = tfidf_vect.fit_transform(Xtrain)\n",
    "Xtest_tfidf = tfidf_vect.transform(Xtest)\n",
    "\n",
    "\n",
    "count_vect = CountVectorizer() # CountVectorizer\n",
    "Xtrain_count = count_vect.fit_transform(Xtrain)\n",
    "Xtest_count = count_vect.transform(Xtest)"
   ]
  },
  {
   "cell_type": "markdown",
   "id": "1a67682f",
   "metadata": {
    "execution": {
     "iopub.execute_input": "2021-07-23T07:02:58.678286Z",
     "iopub.status.busy": "2021-07-23T07:02:58.677968Z",
     "iopub.status.idle": "2021-07-23T07:03:02.363725Z",
     "shell.execute_reply": "2021-07-23T07:03:02.362283Z",
     "shell.execute_reply.started": "2021-07-23T07:02:58.678257Z"
    },
    "papermill": {
     "duration": 0.277046,
     "end_time": "2021-07-23T20:36:47.783900",
     "exception": false,
     "start_time": "2021-07-23T20:36:47.506854",
     "status": "completed"
    },
    "tags": []
   },
   "source": [
    "### Logistic Regression"
   ]
  },
  {
   "cell_type": "code",
   "execution_count": 185,
   "id": "b9d911fb",
   "metadata": {
    "execution": {
     "iopub.execute_input": "2021-07-23T20:36:48.344300Z",
     "iopub.status.busy": "2021-07-23T20:36:48.343274Z",
     "iopub.status.idle": "2021-07-23T20:36:51.459262Z",
     "shell.execute_reply": "2021-07-23T20:36:51.458830Z",
     "shell.execute_reply.started": "2021-07-23T19:33:07.417622Z"
    },
    "papermill": {
     "duration": 3.285111,
     "end_time": "2021-07-23T20:36:51.459384",
     "exception": false,
     "start_time": "2021-07-23T20:36:48.174273",
     "status": "completed"
    },
    "tags": []
   },
   "outputs": [
    {
     "name": "stdout",
     "output_type": "stream",
     "text": [
      "Logistic Regression Accuracy : 89.03%\n"
     ]
    },
    {
     "name": "stderr",
     "output_type": "stream",
     "text": [
      "/opt/homebrew/lib/python3.9/site-packages/sklearn/utils/deprecation.py:87: FutureWarning: Function plot_confusion_matrix is deprecated; Function `plot_confusion_matrix` is deprecated in 1.0 and will be removed in 1.2. Use one of the class methods: ConfusionMatrixDisplay.from_predictions or ConfusionMatrixDisplay.from_estimator.\n",
      "  warnings.warn(msg, category=FutureWarning)\n"
     ]
    },
    {
     "data": {
      "image/png": "[encoded data removed]",
      "text/plain": [
       "<Figure size 432x288 with 2 Axes>"
      ]
     },
     "metadata": {},
     "output_type": "display_data"
    }
   ],
   "source": [
    "lr = LogisticRegression()\n",
    "lr.fit(Xtrain_tfidf,ytrain)\n",
    "p1=lr.predict(Xtest_tfidf)\n",
    "s1=accuracy_score(ytest,p1)\n",
    "print(\"Logistic Regression Accuracy :\", \"{:.2f}%\".format(100*s1))\n",
    "plot_confusion_matrix(lr, Xtest_tfidf, ytest,cmap = 'Blues')\n",
    "plt.grid(False)"
   ]
  },
  {
   "cell_type": "markdown",
   "id": "09b400c7",
   "metadata": {
    "execution": {
     "iopub.execute_input": "2021-07-23T07:03:18.71965Z",
     "iopub.status.busy": "2021-07-23T07:03:18.719323Z",
     "iopub.status.idle": "2021-07-23T07:03:19.008027Z",
     "shell.execute_reply": "2021-07-23T07:03:19.007032Z",
     "shell.execute_reply.started": "2021-07-23T07:03:18.71962Z"
    },
    "papermill": {
     "duration": 0.114907,
     "end_time": "2021-07-23T20:36:51.689269",
     "exception": false,
     "start_time": "2021-07-23T20:36:51.574362",
     "status": "completed"
    },
    "tags": []
   },
   "source": [
    "### Multinomial Naive Bayes"
   ]
  },
  {
   "cell_type": "code",
   "execution_count": 186,
   "id": "1709ab6d",
   "metadata": {
    "execution": {
     "iopub.execute_input": "2021-07-23T20:36:51.925030Z",
     "iopub.status.busy": "2021-07-23T20:36:51.924097Z",
     "iopub.status.idle": "2021-07-23T20:36:52.159253Z",
     "shell.execute_reply": "2021-07-23T20:36:52.159687Z",
     "shell.execute_reply.started": "2021-07-23T19:33:10.69557Z"
    },
    "papermill": {
     "duration": 0.35605,
     "end_time": "2021-07-23T20:36:52.159843",
     "exception": false,
     "start_time": "2021-07-23T20:36:51.803793",
     "status": "completed"
    },
    "tags": []
   },
   "outputs": [
    {
     "name": "stdout",
     "output_type": "stream",
     "text": [
      "Multinomial Naive Bayes Classifier Accuracy : 86.79%\n"
     ]
    },
    {
     "name": "stderr",
     "output_type": "stream",
     "text": [
      "/opt/homebrew/lib/python3.9/site-packages/sklearn/utils/deprecation.py:87: FutureWarning: Function plot_confusion_matrix is deprecated; Function `plot_confusion_matrix` is deprecated in 1.0 and will be removed in 1.2. Use one of the class methods: ConfusionMatrixDisplay.from_predictions or ConfusionMatrixDisplay.from_estimator.\n",
      "  warnings.warn(msg, category=FutureWarning)\n"
     ]
    },
    {
     "data": {
      "image/png": "[encoded data removed]",
      "text/plain": [
       "<Figure size 432x288 with 2 Axes>"
      ]
     },
     "metadata": {},
     "output_type": "display_data"
    }
   ],
   "source": [
    "mnb= MultinomialNB()\n",
    "mnb.fit(Xtrain_tfidf,ytrain)\n",
    "p2=mnb.predict(Xtest_tfidf)\n",
    "s2=accuracy_score(ytest,p2)\n",
    "print(\"Multinomial Naive Bayes Classifier Accuracy :\", \"{:.2f}%\".format(100*s2))\n",
    "plot_confusion_matrix(mnb, Xtest_tfidf, ytest,cmap = 'Blues')\n",
    "plt.grid(False)"
   ]
  },
  {
   "cell_type": "markdown",
   "id": "7849febc",
   "metadata": {
    "execution": {
     "iopub.execute_input": "2021-07-23T07:03:37.358139Z",
     "iopub.status.busy": "2021-07-23T07:03:37.357687Z",
     "iopub.status.idle": "2021-07-23T07:03:40.151133Z",
     "shell.execute_reply": "2021-07-23T07:03:40.150309Z",
     "shell.execute_reply.started": "2021-07-23T07:03:37.358096Z"
    },
    "papermill": {
     "duration": 0.117314,
     "end_time": "2021-07-23T20:36:52.397111",
     "exception": false,
     "start_time": "2021-07-23T20:36:52.279797",
     "status": "completed"
    },
    "tags": []
   },
   "source": [
    "### Linear SVM"
   ]
  },
  {
   "cell_type": "code",
   "execution_count": 187,
   "id": "57a30a69",
   "metadata": {
    "execution": {
     "iopub.execute_input": "2021-07-23T20:36:52.643271Z",
     "iopub.status.busy": "2021-07-23T20:36:52.642289Z",
     "iopub.status.idle": "2021-07-23T20:36:53.899929Z",
     "shell.execute_reply": "2021-07-23T20:36:53.899399Z",
     "shell.execute_reply.started": "2021-07-23T19:33:10.953836Z"
    },
    "papermill": {
     "duration": 1.385964,
     "end_time": "2021-07-23T20:36:53.900069",
     "exception": false,
     "start_time": "2021-07-23T20:36:52.514105",
     "status": "completed"
    },
    "tags": []
   },
   "outputs": [
    {
     "name": "stdout",
     "output_type": "stream",
     "text": [
      "Linear Support Vector Classifier Accuracy : 89.57%\n"
     ]
    },
    {
     "name": "stderr",
     "output_type": "stream",
     "text": [
      "/opt/homebrew/lib/python3.9/site-packages/sklearn/utils/deprecation.py:87: FutureWarning: Function plot_confusion_matrix is deprecated; Function `plot_confusion_matrix` is deprecated in 1.0 and will be removed in 1.2. Use one of the class methods: ConfusionMatrixDisplay.from_predictions or ConfusionMatrixDisplay.from_estimator.\n",
      "  warnings.warn(msg, category=FutureWarning)\n"
     ]
    },
    {
     "data": {
      "image/png": "[encoded data removed]",
      "text/plain": [
       "<Figure size 432x288 with 2 Axes>"
      ]
     },
     "metadata": {},
     "output_type": "display_data"
    }
   ],
   "source": [
    "linear_svc = LinearSVC(penalty='l2',loss = 'hinge')\n",
    "linear_svc.fit(Xtrain_tfidf,ytrain)\n",
    "p3=linear_svc.predict(Xtest_tfidf)\n",
    "s3=accuracy_score(ytest,p3)\n",
    "print(\"Linear Support Vector Classifier Accuracy :\", \"{:.2f}%\".format(100*s3))\n",
    "plot_confusion_matrix(linear_svc, Xtest_tfidf, ytest,cmap = 'Blues')\n",
    "plt.grid(False)"
   ]
  },
  {
   "cell_type": "markdown",
   "id": "f6a5b756",
   "metadata": {
    "execution": {
     "iopub.execute_input": "2021-07-23T07:04:08.496879Z",
     "iopub.status.busy": "2021-07-23T07:04:08.496531Z",
     "iopub.status.idle": "2021-07-23T07:06:36.237208Z",
     "shell.execute_reply": "2021-07-23T07:06:36.235223Z",
     "shell.execute_reply.started": "2021-07-23T07:04:08.496829Z"
    },
    "papermill": {
     "duration": 0.117233,
     "end_time": "2021-07-23T20:36:54.134842",
     "exception": false,
     "start_time": "2021-07-23T20:36:54.017609",
     "status": "completed"
    },
    "tags": []
   },
   "source": [
    "### XGboost "
   ]
  },
  {
   "cell_type": "code",
   "execution_count": 188,
   "id": "2c5f7900",
   "metadata": {
    "execution": {
     "iopub.execute_input": "2021-07-23T20:36:54.374672Z",
     "iopub.status.busy": "2021-07-23T20:36:54.373847Z",
     "iopub.status.idle": "2021-07-23T20:39:19.444056Z",
     "shell.execute_reply": "2021-07-23T20:39:19.443401Z",
     "shell.execute_reply.started": "2021-07-23T19:33:13.20227Z"
    },
    "papermill": {
     "duration": 145.192644,
     "end_time": "2021-07-23T20:39:19.444221",
     "exception": false,
     "start_time": "2021-07-23T20:36:54.251577",
     "status": "completed"
    },
    "tags": []
   },
   "outputs": [
    {
     "name": "stdout",
     "output_type": "stream",
     "text": [
      "XGBoost Accuracy : 84.63%\n"
     ]
    },
    {
     "name": "stderr",
     "output_type": "stream",
     "text": [
      "/opt/homebrew/lib/python3.9/site-packages/sklearn/utils/deprecation.py:87: FutureWarning: Function plot_confusion_matrix is deprecated; Function `plot_confusion_matrix` is deprecated in 1.0 and will be removed in 1.2. Use one of the class methods: ConfusionMatrixDisplay.from_predictions or ConfusionMatrixDisplay.from_estimator.\n",
      "  warnings.warn(msg, category=FutureWarning)\n"
     ]
    },
    {
     "data": {
      "image/png": "[encoded data removed]",
      "text/plain": [
       "<Figure size 432x288 with 2 Axes>"
      ]
     },
     "metadata": {},
     "output_type": "display_data"
    }
   ],
   "source": [
    "xgbo = XGBClassifier()\n",
    "xgbo.fit(Xtrain_tfidf,ytrain)\n",
    "p4=xgbo.predict(Xtest_tfidf)\n",
    "s4=accuracy_score(ytest,p4)\n",
    "print(\"XGBoost Accuracy :\", \"{:.2f}%\".format(100*s4))\n",
    "plot_confusion_matrix(xgbo, Xtest_tfidf, ytest, cmap = 'Blues')\n",
    "plt.grid(False)"
   ]
  },
  {
   "cell_type": "markdown",
   "id": "41f49ae8",
   "metadata": {
    "papermill": {
     "duration": 0.130121,
     "end_time": "2021-07-23T20:39:19.699538",
     "exception": false,
     "start_time": "2021-07-23T20:39:19.569417",
     "status": "completed"
    },
    "tags": []
   },
   "source": [
    "# **5. Predictive Modelling using Deep Learning** "
   ]
  },
  {
   "cell_type": "code",
   "execution_count": 189,
   "id": "6a535647",
   "metadata": {
    "execution": {
     "iopub.execute_input": "2021-07-23T20:39:20.009329Z",
     "iopub.status.busy": "2021-07-23T20:39:20.008508Z",
     "iopub.status.idle": "2021-07-23T20:39:20.011661Z",
     "shell.execute_reply": "2021-07-23T20:39:20.011213Z",
     "shell.execute_reply.started": "2021-07-23T19:35:40.649657Z"
    },
    "papermill": {
     "duration": 0.184686,
     "end_time": "2021-07-23T20:39:20.011773",
     "exception": false,
     "start_time": "2021-07-23T20:39:19.827087",
     "status": "completed"
    },
    "tags": []
   },
   "outputs": [],
   "source": [
    "def plotLearningCurve(history,epochs):\n",
    "  epochRange = range(1,epochs+1)\n",
    "  fig , ax = plt.subplots(1,2,figsize = (10,5))\n",
    "  \n",
    "  ax[0].plot(epochRange,history.history['accuracy'],label = 'Training Accuracy')\n",
    "  ax[0].plot(epochRange,history.history['val_accuracy'],label = 'Validation Accuracy')\n",
    "  ax[0].set_title('Training and Validation accuracy')\n",
    "  ax[0].set_xlabel('Epoch')\n",
    "  ax[0].set_ylabel('Accuracy')\n",
    "  ax[0].legend()\n",
    "  ax[1].plot(epochRange,history.history['loss'],label = 'Training Loss')\n",
    "  ax[1].plot(epochRange,history.history['val_loss'],label = 'Validation Loss')\n",
    "  ax[1].set_title('Training and Validation loss')\n",
    "  ax[1].set_xlabel('Epoch')\n",
    "  ax[1].set_ylabel('Loss')\n",
    "  ax[1].legend()\n",
    "  fig.tight_layout()\n",
    "  plt.show()"
   ]
  },
  {
   "cell_type": "code",
   "execution_count": 190,
   "id": "d1baf7ae",
   "metadata": {
    "execution": {
     "iopub.execute_input": "2021-07-23T20:39:20.304480Z",
     "iopub.status.busy": "2021-07-23T20:39:20.293943Z",
     "iopub.status.idle": "2021-07-23T20:40:12.085599Z",
     "shell.execute_reply": "2021-07-23T20:40:12.084797Z",
     "shell.execute_reply.started": "2021-07-23T19:35:40.667938Z"
    },
    "papermill": {
     "duration": 51.946281,
     "end_time": "2021-07-23T20:40:12.085808",
     "exception": false,
     "start_time": "2021-07-23T20:39:20.139527",
     "status": "completed"
    },
    "tags": []
   },
   "outputs": [
    {
     "name": "stderr",
     "output_type": "stream",
     "text": [
      "/opt/homebrew/lib/python3.9/site-packages/bs4/__init__.py:435: MarkupResemblesLocatorWarning: The input looks more like a filename than markup. You may want to open this file and pass the filehandle into Beautiful Soup.\n",
      "  warnings.warn(\n"
     ]
    }
   ],
   "source": [
    "#splitting into train and test\n",
    "data_copy['review']=data_copy['review'].apply(clean_text,lemmatize = False)\n",
    "#converting target variable to numerical value\n",
    "data_copy.sentiment = [ 1 if each == \"positive\" else 0 for each in data_copy.sentiment]\n",
    "train, test= train_test_split(data_copy, test_size=0.2, random_state=42)\n",
    "Xtrain, ytrain = train['review'], train['sentiment']\n",
    "Xtest, ytest = test['review'], test['sentiment']"
   ]
  },
  {
   "cell_type": "markdown",
   "id": "c95305ac",
   "metadata": {
    "papermill": {
     "duration": 0.130188,
     "end_time": "2021-07-23T20:40:12.353269",
     "exception": false,
     "start_time": "2021-07-23T20:40:12.223081",
     "status": "completed"
    },
    "tags": []
   },
   "source": [
    "### LSTM"
   ]
  },
  {
   "cell_type": "code",
   "execution_count": 191,
   "id": "2e9f2cc8",
   "metadata": {
    "execution": {
     "iopub.execute_input": "2021-07-23T20:40:12.662515Z",
     "iopub.status.busy": "2021-07-23T20:40:12.647234Z",
     "iopub.status.idle": "2021-07-23T20:40:17.027295Z",
     "shell.execute_reply": "2021-07-23T20:40:17.028138Z",
     "shell.execute_reply.started": "2021-07-23T19:36:29.573478Z"
    },
    "papermill": {
     "duration": 4.546893,
     "end_time": "2021-07-23T20:40:17.028347",
     "exception": false,
     "start_time": "2021-07-23T20:40:12.481454",
     "status": "completed"
    },
    "tags": []
   },
   "outputs": [
    {
     "name": "stdout",
     "output_type": "stream",
     "text": [
      "Vocabulary of the dataset is :  136569\n"
     ]
    }
   ],
   "source": [
    "#set up the tokenizer\n",
    "MAX_VOCAB_SIZE = 10000\n",
    "tokenizer = Tokenizer(num_words = MAX_VOCAB_SIZE,oov_token=\"<oov>\")\n",
    "tokenizer.fit_on_texts(Xtrain)\n",
    "word_index = tokenizer.word_index\n",
    "#print(word_index)\n",
    "V = len(word_index)\n",
    "print(\"Vocabulary of the dataset is : \",V)\n"
   ]
  },
  {
   "cell_type": "code",
   "execution_count": 192,
   "id": "e5279f55",
   "metadata": {
    "execution": {
     "iopub.execute_input": "2021-07-23T20:40:17.332245Z",
     "iopub.status.busy": "2021-07-23T20:40:17.316668Z",
     "iopub.status.idle": "2021-07-23T20:40:20.869431Z",
     "shell.execute_reply": "2021-07-23T20:40:20.868907Z",
     "shell.execute_reply.started": "2021-07-23T19:36:34.203296Z"
    },
    "papermill": {
     "duration": 3.703614,
     "end_time": "2021-07-23T20:40:20.869563",
     "exception": false,
     "start_time": "2021-07-23T20:40:17.165949",
     "status": "completed"
    },
    "tags": []
   },
   "outputs": [],
   "source": [
    "##create sequences of reviews\n",
    "seq_train = tokenizer.texts_to_sequences(Xtrain)\n",
    "seq_test =  tokenizer.texts_to_sequences(Xtest)"
   ]
  },
  {
   "cell_type": "code",
   "execution_count": 193,
   "id": "dd771aca",
   "metadata": {
    "execution": {
     "iopub.execute_input": "2021-07-23T20:40:21.122337Z",
     "iopub.status.busy": "2021-07-23T20:40:21.121542Z",
     "iopub.status.idle": "2021-07-23T20:40:21.124615Z",
     "shell.execute_reply": "2021-07-23T20:40:21.125233Z",
     "shell.execute_reply.started": "2021-07-23T19:36:38.054585Z"
    },
    "papermill": {
     "duration": 0.134432,
     "end_time": "2021-07-23T20:40:21.125416",
     "exception": false,
     "start_time": "2021-07-23T20:40:20.990984",
     "status": "completed"
    },
    "tags": []
   },
   "outputs": [
    {
     "name": "stdout",
     "output_type": "stream",
     "text": [
      "Maximum length of sequence in the list: 1406\n"
     ]
    }
   ],
   "source": [
    "#choice of maximum length of sequences\n",
    "seq_len_list = [len(i) for i in seq_train + seq_test]\n",
    "\n",
    "#if we take the direct maximum then\n",
    "max_len=max(seq_len_list)\n",
    "print('Maximum length of sequence in the list: {}'.format(max_len))"
   ]
  },
  {
   "cell_type": "code",
   "execution_count": 194,
   "id": "d024ee19",
   "metadata": {
    "execution": {
     "iopub.execute_input": "2021-07-23T20:40:21.381995Z",
     "iopub.status.busy": "2021-07-23T20:40:21.381218Z",
     "iopub.status.idle": "2021-07-23T20:40:21.394356Z",
     "shell.execute_reply": "2021-07-23T20:40:21.394749Z",
     "shell.execute_reply.started": "2021-07-23T19:36:38.069677Z"
    },
    "papermill": {
     "duration": 0.148646,
     "end_time": "2021-07-23T20:40:21.394906",
     "exception": false,
     "start_time": "2021-07-23T20:40:21.246260",
     "status": "completed"
    },
    "tags": []
   },
   "outputs": [
    {
     "name": "stdout",
     "output_type": "stream",
     "text": [
      "Maximum length of the sequence when considering data only two standard deviations from average: 293\n"
     ]
    }
   ],
   "source": [
    "# when setting the maximum length of sequence, variability around the average is used.\n",
    "max_seq_len = np.mean(seq_len_list) + 2 * np.std(seq_len_list)\n",
    "max_seq_len = int(max_seq_len)\n",
    "print('Maximum length of the sequence when considering data only two standard deviations from average: {}'.format(max_seq_len))"
   ]
  },
  {
   "cell_type": "code",
   "execution_count": 195,
   "id": "25146ebb",
   "metadata": {
    "execution": {
     "iopub.execute_input": "2021-07-23T20:40:21.652975Z",
     "iopub.status.busy": "2021-07-23T20:40:21.652116Z",
     "iopub.status.idle": "2021-07-23T20:40:21.657824Z",
     "shell.execute_reply": "2021-07-23T20:40:21.657261Z",
     "shell.execute_reply.started": "2021-07-23T19:36:38.110908Z"
    },
    "papermill": {
     "duration": 0.138841,
     "end_time": "2021-07-23T20:40:21.657997",
     "exception": false,
     "start_time": "2021-07-23T20:40:21.519156",
     "status": "completed"
    },
    "tags": []
   },
   "outputs": [
    {
     "name": "stdout",
     "output_type": "stream",
     "text": [
      "The above calculated number coveres approximately 94.51 % of data\n"
     ]
    }
   ],
   "source": [
    "perc_covered = np.sum(np.array(seq_len_list) < max_seq_len) / len(seq_len_list)*100\n",
    "print('The above calculated number coveres approximately {} % of data'.format(np.round(perc_covered,2)))\n"
   ]
  },
  {
   "cell_type": "markdown",
   "id": "58e0d15b",
   "metadata": {
    "papermill": {
     "duration": 0.119306,
     "end_time": "2021-07-23T20:40:21.897667",
     "exception": false,
     "start_time": "2021-07-23T20:40:21.778361",
     "status": "completed"
    },
    "tags": []
   },
   "source": [
    "So we can use this number for our maxlen parameter."
   ]
  },
  {
   "cell_type": "code",
   "execution_count": 196,
   "id": "814550ae",
   "metadata": {
    "execution": {
     "iopub.execute_input": "2021-07-23T20:40:22.147780Z",
     "iopub.status.busy": "2021-07-23T20:40:22.146632Z",
     "iopub.status.idle": "2021-07-23T20:40:23.359918Z",
     "shell.execute_reply": "2021-07-23T20:40:23.359439Z",
     "shell.execute_reply.started": "2021-07-23T19:36:38.130622Z"
    },
    "papermill": {
     "duration": 1.342959,
     "end_time": "2021-07-23T20:40:23.360063",
     "exception": false,
     "start_time": "2021-07-23T20:40:22.017104",
     "status": "completed"
    },
    "tags": []
   },
   "outputs": [],
   "source": [
    "#create padded sequences\n",
    "pad_train=pad_sequences(seq_train,truncating = 'post', padding = 'pre',maxlen=max_seq_len)\n",
    "pad_test=pad_sequences(seq_test,truncating = 'post', padding = 'pre',maxlen=max_seq_len)"
   ]
  },
  {
   "cell_type": "code",
   "execution_count": 197,
   "id": "1b35b571",
   "metadata": {
    "execution": {
     "iopub.execute_input": "2021-07-23T20:40:23.615349Z",
     "iopub.status.busy": "2021-07-23T20:40:23.613328Z",
     "iopub.status.idle": "2021-07-23T20:40:23.643103Z",
     "shell.execute_reply": "2021-07-23T20:40:23.642575Z",
     "shell.execute_reply.started": "2021-07-23T19:36:39.505739Z"
    },
    "papermill": {
     "duration": 0.16173,
     "end_time": "2021-07-23T20:40:23.643242",
     "exception": false,
     "start_time": "2021-07-23T20:40:23.481512",
     "status": "completed"
    },
    "tags": []
   },
   "outputs": [],
   "source": [
    "#Splitting training set for validation purposes\n",
    "Xtrain,Xval,ytrain,yval=train_test_split(pad_train,ytrain,\n",
    "                                             test_size=0.2,random_state=10)"
   ]
  },
  {
   "cell_type": "code",
   "execution_count": 199,
   "id": "65a93f04",
   "metadata": {
    "execution": {
     "iopub.execute_input": "2021-07-23T20:40:23.893467Z",
     "iopub.status.busy": "2021-07-23T20:40:23.892765Z",
     "iopub.status.idle": "2021-07-23T20:40:23.895769Z",
     "shell.execute_reply": "2021-07-23T20:40:23.896146Z",
     "shell.execute_reply.started": "2021-07-23T19:36:39.541306Z"
    },
    "papermill": {
     "duration": 0.132352,
     "end_time": "2021-07-23T20:40:23.896276",
     "exception": false,
     "start_time": "2021-07-23T20:40:23.763924",
     "status": "completed"
    },
    "tags": []
   },
   "outputs": [],
   "source": [
    "def lstm_model(Xtrain,Xval,ytrain,yval,V,D,maxlen,epochs):\n",
    "\n",
    "    print(\"----Building the model----\")\n",
    "    i = Input(shape=(maxlen,))\n",
    "    x = Embedding(V + 1, D,input_length = maxlen)(i)\n",
    "    x = BatchNormalization()(x)\n",
    "    x = Dropout(0.3)(x)\n",
    "    x = Conv1D(32,5,activation = 'relu')(x)\n",
    "    x = Dropout(0.3)(x)\n",
    "    x = MaxPooling1D(2)(x)\n",
    "    x = Bidirectional(LSTM(128,return_sequences=True))(x)\n",
    "    x = LSTM(64)(x)\n",
    "    x = Dropout(0.5)(x)\n",
    "    x = Dense(1, activation='sigmoid')(x)\n",
    "    model = Model(i, x)\n",
    "    model.summary()\n",
    "\n",
    "    #Training the LSTM\n",
    "    print(\"----Training the network----\")\n",
    "    model.compile(optimizer= Adam(0.0005),\n",
    "              loss='binary_crossentropy',\n",
    "              metrics=['accuracy'])\n",
    "    \n",
    "\n",
    "    r = model.fit(Xtrain,ytrain, \n",
    "                  validation_data = (Xval,yval), \n",
    "                  epochs = epochs, \n",
    "                  verbose = 2,\n",
    "                  batch_size = 32)\n",
    "                  #callbacks = callbacks\n",
    "    print(\"Train score:\", model.evaluate(Xtrain,ytrain))\n",
    "    print(\"Validation score:\", model.evaluate(Xval,yval))\n",
    "    n_epochs = len(r.history['loss'])\n",
    "    \n",
    "    return r,model,n_epochs \n"
   ]
  },
  {
   "cell_type": "code",
   "execution_count": 200,
   "id": "eb13e19f",
   "metadata": {
    "execution": {
     "iopub.execute_input": "2021-07-23T20:40:24.138852Z",
     "iopub.status.busy": "2021-07-23T20:40:24.138340Z",
     "iopub.status.idle": "2021-07-23T20:53:31.855302Z",
     "shell.execute_reply": "2021-07-23T20:53:31.854819Z",
     "shell.execute_reply.started": "2021-07-23T19:36:39.55525Z"
    },
    "papermill": {
     "duration": 787.841131,
     "end_time": "2021-07-23T20:53:31.855436",
     "exception": false,
     "start_time": "2021-07-23T20:40:24.014305",
     "status": "completed"
    },
    "tags": []
   },
   "outputs": [
    {
     "name": "stdout",
     "output_type": "stream",
     "text": [
      "----Building the model----\n",
      "Model: \"model_2\"\n",
      "_________________________________________________________________\n",
      " Layer (type)                Output Shape              Param #   \n",
      "=================================================================\n",
      " input_2 (InputLayer)        [(None, 293)]             0         \n",
      "                                                                 \n",
      " embedding_1 (Embedding)     (None, 293, 64)           8740480   \n",
      "                                                                 \n",
      " batch_normalization_1 (Batc  (None, 293, 64)          256       \n",
      " hNormalization)                                                 \n",
      "                                                                 \n",
      " dropout_23 (Dropout)        (None, 293, 64)           0         \n",
      "                                                                 \n",
      " conv1d_1 (Conv1D)           (None, 289, 32)           10272     \n",
      "                                                                 \n",
      " dropout_24 (Dropout)        (None, 289, 32)           0         \n",
      "                                                                 \n",
      " max_pooling1d_1 (MaxPooling  (None, 144, 32)          0         \n",
      " 1D)                                                             \n",
      "                                                                 \n",
      " bidirectional_1 (Bidirectio  (None, 144, 256)         164864    \n",
      " nal)                                                            \n",
      "                                                                 \n",
      " lstm_3 (LSTM)               (None, 64)                82176     \n",
      "                                                                 \n",
      " dropout_25 (Dropout)        (None, 64)                0         \n",
      "                                                                 \n",
      " dense_3 (Dense)             (None, 1)                 65        \n",
      "                                                                 \n",
      "=================================================================\n",
      "Total params: 8,998,113\n",
      "Trainable params: 8,997,985\n",
      "Non-trainable params: 128\n",
      "_________________________________________________________________\n",
      "----Training the network----\n",
      "Epoch 1/5\n",
      "992/992 - 177s - loss: 0.4187 - accuracy: 0.7974 - val_loss: 0.2820 - val_accuracy: 0.8813 - 177s/epoch - 179ms/step\n",
      "Epoch 2/5\n",
      "992/992 - 185s - loss: 0.2509 - accuracy: 0.9003 - val_loss: 0.2688 - val_accuracy: 0.8897 - 185s/epoch - 186ms/step\n",
      "Epoch 3/5\n",
      "992/992 - 177s - loss: 0.1979 - accuracy: 0.9246 - val_loss: 0.3017 - val_accuracy: 0.8847 - 177s/epoch - 178ms/step\n",
      "Epoch 4/5\n",
      "992/992 - 180s - loss: 0.1513 - accuracy: 0.9443 - val_loss: 0.3192 - val_accuracy: 0.8835 - 180s/epoch - 181ms/step\n",
      "Epoch 5/5\n",
      "992/992 - 202s - loss: 0.1144 - accuracy: 0.9590 - val_loss: 0.3441 - val_accuracy: 0.8853 - 202s/epoch - 203ms/step\n",
      "992/992 [==============================] - 48s 48ms/step - loss: 0.0418 - accuracy: 0.9896\n",
      "Train score: [0.04184907302260399, 0.989600419998169]\n",
      "248/248 [==============================] - 12s 47ms/step - loss: 0.3441 - accuracy: 0.8853\n",
      "Validation score: [0.3440970778465271, 0.8852893114089966]\n"
     ]
    }
   ],
   "source": [
    "D = 64 #embedding dims\n",
    "epochs = 5\n",
    "r,model,n_epochs = lstm_model(Xtrain,Xval,ytrain,yval,V,D,max_seq_len,epochs)"
   ]
  },
  {
   "cell_type": "code",
   "execution_count": 201,
   "id": "4afbb18e",
   "metadata": {
    "execution": {
     "iopub.execute_input": "2021-07-23T20:53:32.233631Z",
     "iopub.status.busy": "2021-07-23T20:53:32.233048Z",
     "iopub.status.idle": "2021-07-23T20:53:32.665633Z",
     "shell.execute_reply": "2021-07-23T20:53:32.664874Z",
     "shell.execute_reply.started": "2021-07-23T19:49:41.332038Z"
    },
    "papermill": {
     "duration": 0.631629,
     "end_time": "2021-07-23T20:53:32.665762",
     "exception": false,
     "start_time": "2021-07-23T20:53:32.034133",
     "status": "completed"
    },
    "tags": []
   },
   "outputs": [
    {
     "data": {
      "image/png": "[encoded data removed]",
      "text/plain": [
       "<Figure size 720x360 with 2 Axes>"
      ]
     },
     "metadata": {},
     "output_type": "display_data"
    }
   ],
   "source": [
    "#Plot accuracy and loss\n",
    "plotLearningCurve(r,n_epochs)"
   ]
  },
  {
   "cell_type": "code",
   "execution_count": 202,
   "id": "a38ad1e0",
   "metadata": {
    "execution": {
     "iopub.execute_input": "2021-07-23T20:53:33.032675Z",
     "iopub.status.busy": "2021-07-23T20:53:33.031772Z",
     "iopub.status.idle": "2021-07-23T20:53:36.396045Z",
     "shell.execute_reply": "2021-07-23T20:53:36.395442Z",
     "shell.execute_reply.started": "2021-07-23T19:49:41.809439Z"
    },
    "papermill": {
     "duration": 3.549658,
     "end_time": "2021-07-23T20:53:36.396207",
     "exception": false,
     "start_time": "2021-07-23T20:53:32.846549",
     "status": "completed"
    },
    "tags": []
   },
   "outputs": [
    {
     "name": "stdout",
     "output_type": "stream",
     "text": [
      "Evaluate Model Performance on Test set\n",
      "310/310 [==============================] - 13s 42ms/step - loss: 0.3660 - accuracy: 0.8802\n",
      "{'loss': 0.36603862047195435, 'accuracy': 0.8802056908607483}\n"
     ]
    }
   ],
   "source": [
    "print(\"Evaluate Model Performance on Test set\")\n",
    "result = model.evaluate(pad_test,ytest)\n",
    "print(dict(zip(model.metrics_names, result)))"
   ]
  },
  {
   "cell_type": "code",
   "execution_count": 203,
   "id": "6a179200",
   "metadata": {
    "execution": {
     "iopub.execute_input": "2021-07-23T20:53:36.791958Z",
     "iopub.status.busy": "2021-07-23T20:53:36.791028Z",
     "iopub.status.idle": "2021-07-23T20:53:40.658703Z",
     "shell.execute_reply": "2021-07-23T20:53:40.658271Z",
     "shell.execute_reply.started": "2021-07-23T19:49:45.389636Z"
    },
    "papermill": {
     "duration": 4.06749,
     "end_time": "2021-07-23T20:53:40.658828",
     "exception": false,
     "start_time": "2021-07-23T20:53:36.591338",
     "status": "completed"
    },
    "tags": []
   },
   "outputs": [
    {
     "name": "stdout",
     "output_type": "stream",
     "text": [
      "310/310 [==============================] - 13s 40ms/step\n"
     ]
    },
    {
     "data": {
      "image/png": "[encoded data removed]",
      "text/plain": [
       "<Figure size 432x288 with 2 Axes>"
      ]
     },
     "metadata": {},
     "output_type": "display_data"
    }
   ],
   "source": [
    "#Generate predictions for the test dataset\n",
    "ypred = model.predict(pad_test)\n",
    "ypred = ypred>0.5\n",
    "#Get the confusion matrix\n",
    "cf_matrix = confusion_matrix(ytest, ypred)\n",
    "sns.heatmap(cf_matrix,annot = True,fmt ='g', cmap='Blues')\n",
    "plt.xlabel('Predicted label')\n",
    "plt.ylabel('True label')\n",
    "plt.show()"
   ]
  },
  {
   "cell_type": "markdown",
   "id": "f24fed64",
   "metadata": {
    "papermill": {
     "duration": 1.136002,
     "end_time": "2021-07-23T21:19:49.869123",
     "exception": false,
     "start_time": "2021-07-23T21:19:48.733121",
     "status": "completed"
    },
    "tags": []
   },
   "source": [
    "### "
   ]
  }
 ],
 "metadata": {
  "interpreter": {
   "hash": "a665b5d41d17b532ea9890333293a1b812fa0b73c9c25c950b3cedf1bebd0438"
  },
  "kernelspec": {
   "display_name": "Python 3.9.15 64-bit",
   "language": "python",
   "name": "python3"
  },
  "language_info": {
   "codemirror_mode": {
    "name": "ipython",
    "version": 3
   },
   "file_extension": ".py",
   "mimetype": "text/x-python",
   "name": "python",
   "nbconvert_exporter": "python",
   "pygments_lexer": "ipython3",
   "version": "3.9.15"
  },
  "papermill": {
   "default_parameters": {},
   "duration": 2882.086048,
   "end_time": "2021-07-23T21:19:53.913137",
   "environment_variables": {},
   "exception": null,
   "input_path": "__notebook__.ipynb",
   "output_path": "__notebook__.ipynb",
   "parameters": {},
   "start_time": "2021-07-23T20:31:51.827089",
   "version": "2.3.3"
  },
  "widgets": {
   "application/vnd.jupyter.widget-state+json": {
    "state": {
     "0411d24976e84866bffce88019ae20dc": {
      "model_module": "@jupyter-widgets/base",
      "model_module_version": "1.2.0",
      "model_name": "LayoutModel",
      "state": {
       "_model_module": "@jupyter-widgets/base",
       "_model_module_version": "1.2.0",
       "_model_name": "LayoutModel",
       "_view_count": null,
       "_view_module": "@jupyter-widgets/base",
       "_view_module_version": "1.2.0",
       "_view_name": "LayoutView",
       "align_content": null,
       "align_items": null,
       "align_self": null,
       "border": null,
       "bottom": null,
       "display": null,
       "flex": null,
       "flex_flow": null,
       "grid_area": null,
       "grid_auto_columns": null,
       "grid_auto_flow": null,
       "grid_auto_rows": null,
       "grid_column": null,
       "grid_gap": null,
       "grid_row": null,
       "grid_template_areas": null,
       "grid_template_columns": null,
       "grid_template_rows": null,
       "height": null,
       "justify_content": null,
       "justify_items": null,
       "left": null,
       "margin": null,
       "max_height": null,
       "max_width": null,
       "min_height": null,
       "min_width": null,
       "object_fit": null,
       "object_position": null,
       "order": null,
       "overflow": null,
       "overflow_x": null,
       "overflow_y": null,
       "padding": null,
       "right": null,
       "top": null,
       "visibility": null,
       "width": null
      }
     },
     "0fcf83e4cfca461382652959be6bc5c7": {
      "model_module": "@jupyter-widgets/controls",
      "model_module_version": "1.5.0",
      "model_name": "HTMLModel",
      "state": {
       "_dom_classes": [],
       "_model_module": "@jupyter-widgets/controls",
       "_model_module_version": "1.5.0",
       "_model_name": "HTMLModel",
       "_view_count": null,
       "_view_module": "@jupyter-widgets/controls",
       "_view_module_version": "1.5.0",
       "_view_name": "HTMLView",
       "description": "",
       "description_tooltip": null,
       "layout": "IPY_MODEL_5c21e6e211724f0f99a7db3d25b111cb",
       "placeholder": "​",
       "style": "IPY_MODEL_5730aa297f64444782304854ec07ec34",
       "value": " 466k/466k [00:00&lt;00:00, 1.43MB/s]"
      }
     },
     "1255f1e99eb346e38d3fe657e2d10550": {
      "model_module": "@jupyter-widgets/controls",
      "model_module_version": "1.5.0",
      "model_name": "HTMLModel",
      "state": {
       "_dom_classes": [],
       "_model_module": "@jupyter-widgets/controls",
       "_model_module_version": "1.5.0",
       "_model_name": "HTMLModel",
       "_view_count": null,
       "_view_module": "@jupyter-widgets/controls",
       "_view_module_version": "1.5.0",
       "_view_name": "HTMLView",
       "description": "",
       "description_tooltip": null,
       "layout": "IPY_MODEL_b4f66885367c477a843a909ce17fd18a",
       "placeholder": "​",
       "style": "IPY_MODEL_642f442757ea40658bc6ad2faa993cae",
       "value": "Downloading: 100%"
      }
     },
     "1943c130b15644b8bd7558216a596061": {
      "model_module": "@jupyter-widgets/base",
      "model_module_version": "1.2.0",
      "model_name": "LayoutModel",
      "state": {
       "_model_module": "@jupyter-widgets/base",
       "_model_module_version": "1.2.0",
       "_model_name": "LayoutModel",
       "_view_count": null,
       "_view_module": "@jupyter-widgets/base",
       "_view_module_version": "1.2.0",
       "_view_name": "LayoutView",
       "align_content": null,
       "align_items": null,
       "align_self": null,
       "border": null,
       "bottom": null,
       "display": null,
       "flex": null,
       "flex_flow": null,
       "grid_area": null,
       "grid_auto_columns": null,
       "grid_auto_flow": null,
       "grid_auto_rows": null,
       "grid_column": null,
       "grid_gap": null,
       "grid_row": null,
       "grid_template_areas": null,
       "grid_template_columns": null,
       "grid_template_rows": null,
       "height": null,
       "justify_content": null,
       "justify_items": null,
       "left": null,
       "margin": null,
       "max_height": null,
       "max_width": null,
       "min_height": null,
       "min_width": null,
       "object_fit": null,
       "object_position": null,
       "order": null,
       "overflow": null,
       "overflow_x": null,
       "overflow_y": null,
       "padding": null,
       "right": null,
       "top": null,
       "visibility": null,
       "width": null
      }
     },
     "217f23b212494db1901a0efb4e319199": {
      "model_module": "@jupyter-widgets/controls",
      "model_module_version": "1.5.0",
      "model_name": "FloatProgressModel",
      "state": {
       "_dom_classes": [],
       "_model_module": "@jupyter-widgets/controls",
       "_model_module_version": "1.5.0",
       "_model_name": "FloatProgressModel",
       "_view_count": null,
       "_view_module": "@jupyter-widgets/controls",
       "_view_module_version": "1.5.0",
       "_view_name": "ProgressView",
       "bar_style": "success",
       "description": "",
       "description_tooltip": null,
       "layout": "IPY_MODEL_0411d24976e84866bffce88019ae20dc",
       "max": 466062,
       "min": 0,
       "orientation": "horizontal",
       "style": "IPY_MODEL_a9000594fa16492188f6d727e29a7960",
       "value": 466062
      }
     },
     "25efe62350bb49c78f096f195f43db62": {
      "model_module": "@jupyter-widgets/controls",
      "model_module_version": "1.5.0",
      "model_name": "DescriptionStyleModel",
      "state": {
       "_model_module": "@jupyter-widgets/controls",
       "_model_module_version": "1.5.0",
       "_model_name": "DescriptionStyleModel",
       "_view_count": null,
       "_view_module": "@jupyter-widgets/base",
       "_view_module_version": "1.2.0",
       "_view_name": "StyleView",
       "description_width": ""
      }
     },
     "29d3720001474e4194b7447d3082971c": {
      "model_module": "@jupyter-widgets/controls",
      "model_module_version": "1.5.0",
      "model_name": "HTMLModel",
      "state": {
       "_dom_classes": [],
       "_model_module": "@jupyter-widgets/controls",
       "_model_module_version": "1.5.0",
       "_model_name": "HTMLModel",
       "_view_count": null,
       "_view_module": "@jupyter-widgets/controls",
       "_view_module_version": "1.5.0",
       "_view_name": "HTMLView",
       "description": "",
       "description_tooltip": null,
       "layout": "IPY_MODEL_4bf91413940147eca2967cdbfb07c6d8",
       "placeholder": "​",
       "style": "IPY_MODEL_25efe62350bb49c78f096f195f43db62",
       "value": "Downloading: 100%"
      }
     },
     "29fa0ff297c64ca88bc9d7783d40d225": {
      "model_module": "@jupyter-widgets/base",
      "model_module_version": "1.2.0",
      "model_name": "LayoutModel",
      "state": {
       "_model_module": "@jupyter-widgets/base",
       "_model_module_version": "1.2.0",
       "_model_name": "LayoutModel",
       "_view_count": null,
       "_view_module": "@jupyter-widgets/base",
       "_view_module_version": "1.2.0",
       "_view_name": "LayoutView",
       "align_content": null,
       "align_items": null,
       "align_self": null,
       "border": null,
       "bottom": null,
       "display": null,
       "flex": null,
       "flex_flow": null,
       "grid_area": null,
       "grid_auto_columns": null,
       "grid_auto_flow": null,
       "grid_auto_rows": null,
       "grid_column": null,
       "grid_gap": null,
       "grid_row": null,
       "grid_template_areas": null,
       "grid_template_columns": null,
       "grid_template_rows": null,
       "height": null,
       "justify_content": null,
       "justify_items": null,
       "left": null,
       "margin": null,
       "max_height": null,
       "max_width": null,
       "min_height": null,
       "min_width": null,
       "object_fit": null,
       "object_position": null,
       "order": null,
       "overflow": null,
       "overflow_x": null,
       "overflow_y": null,
       "padding": null,
       "right": null,
       "top": null,
       "visibility": null,
       "width": null
      }
     },
     "2d44bf2ad5a84aa0866d19b875ba6d19": {
      "model_module": "@jupyter-widgets/controls",
      "model_module_version": "1.5.0",
      "model_name": "ProgressStyleModel",
      "state": {
       "_model_module": "@jupyter-widgets/controls",
       "_model_module_version": "1.5.0",
       "_model_name": "ProgressStyleModel",
       "_view_count": null,
       "_view_module": "@jupyter-widgets/base",
       "_view_module_version": "1.2.0",
       "_view_name": "StyleView",
       "bar_color": null,
       "description_width": ""
      }
     },
     "33b3bd68667e410ba8e1aa2539494ddf": {
      "model_module": "@jupyter-widgets/controls",
      "model_module_version": "1.5.0",
      "model_name": "DescriptionStyleModel",
      "state": {
       "_model_module": "@jupyter-widgets/controls",
       "_model_module_version": "1.5.0",
       "_model_name": "DescriptionStyleModel",
       "_view_count": null,
       "_view_module": "@jupyter-widgets/base",
       "_view_module_version": "1.2.0",
       "_view_name": "StyleView",
       "description_width": ""
      }
     },
     "3e9f2d0e1bd749c7b92e7853a98e155f": {
      "model_module": "@jupyter-widgets/controls",
      "model_module_version": "1.5.0",
      "model_name": "HTMLModel",
      "state": {
       "_dom_classes": [],
       "_model_module": "@jupyter-widgets/controls",
       "_model_module_version": "1.5.0",
       "_model_name": "HTMLModel",
       "_view_count": null,
       "_view_module": "@jupyter-widgets/controls",
       "_view_module_version": "1.5.0",
       "_view_name": "HTMLView",
       "description": "",
       "description_tooltip": null,
       "layout": "IPY_MODEL_fc8f449d751e43679fd94770ececc200",
       "placeholder": "​",
       "style": "IPY_MODEL_33b3bd68667e410ba8e1aa2539494ddf",
       "value": " 442/442 [00:00&lt;00:00, 15.6kB/s]"
      }
     },
     "3eef615ce0ea42bfa71e85a4c5b43822": {
      "model_module": "@jupyter-widgets/controls",
      "model_module_version": "1.5.0",
      "model_name": "HTMLModel",
      "state": {
       "_dom_classes": [],
       "_model_module": "@jupyter-widgets/controls",
       "_model_module_version": "1.5.0",
       "_model_name": "HTMLModel",
       "_view_count": null,
       "_view_module": "@jupyter-widgets/controls",
       "_view_module_version": "1.5.0",
       "_view_name": "HTMLView",
       "description": "",
       "description_tooltip": null,
       "layout": "IPY_MODEL_400f6a1e240c4352a62f75a472035775",
       "placeholder": "​",
       "style": "IPY_MODEL_80214f50cda64a998bdd170096c1152f",
       "value": " 232k/232k [00:00&lt;00:00, 1.42MB/s]"
      }
     },
     "400f6a1e240c4352a62f75a472035775": {
      "model_module": "@jupyter-widgets/base",
      "model_module_version": "1.2.0",
      "model_name": "LayoutModel",
      "state": {
       "_model_module": "@jupyter-widgets/base",
       "_model_module_version": "1.2.0",
       "_model_name": "LayoutModel",
       "_view_count": null,
       "_view_module": "@jupyter-widgets/base",
       "_view_module_version": "1.2.0",
       "_view_name": "LayoutView",
       "align_content": null,
       "align_items": null,
       "align_self": null,
       "border": null,
       "bottom": null,
       "display": null,
       "flex": null,
       "flex_flow": null,
       "grid_area": null,
       "grid_auto_columns": null,
       "grid_auto_flow": null,
       "grid_auto_rows": null,
       "grid_column": null,
       "grid_gap": null,
       "grid_row": null,
       "grid_template_areas": null,
       "grid_template_columns": null,
       "grid_template_rows": null,
       "height": null,
       "justify_content": null,
       "justify_items": null,
       "left": null,
       "margin": null,
       "max_height": null,
       "max_width": null,
       "min_height": null,
       "min_width": null,
       "object_fit": null,
       "object_position": null,
       "order": null,
       "overflow": null,
       "overflow_x": null,
       "overflow_y": null,
       "padding": null,
       "right": null,
       "top": null,
       "visibility": null,
       "width": null
      }
     },
     "4165637345a04fbfb1d1b90b2c3ee8bf": {
      "model_module": "@jupyter-widgets/controls",
      "model_module_version": "1.5.0",
      "model_name": "DescriptionStyleModel",
      "state": {
       "_model_module": "@jupyter-widgets/controls",
       "_model_module_version": "1.5.0",
       "_model_name": "DescriptionStyleModel",
       "_view_count": null,
       "_view_module": "@jupyter-widgets/base",
       "_view_module_version": "1.2.0",
       "_view_name": "StyleView",
       "description_width": ""
      }
     },
     "41dbcde64f4542f5bae9857b71e9b85f": {
      "model_module": "@jupyter-widgets/controls",
      "model_module_version": "1.5.0",
      "model_name": "ProgressStyleModel",
      "state": {
       "_model_module": "@jupyter-widgets/controls",
       "_model_module_version": "1.5.0",
       "_model_name": "ProgressStyleModel",
       "_view_count": null,
       "_view_module": "@jupyter-widgets/base",
       "_view_module_version": "1.2.0",
       "_view_name": "StyleView",
       "bar_color": null,
       "description_width": ""
      }
     },
     "428c86f505a74e6bab345f82241ed3e3": {
      "model_module": "@jupyter-widgets/base",
      "model_module_version": "1.2.0",
      "model_name": "LayoutModel",
      "state": {
       "_model_module": "@jupyter-widgets/base",
       "_model_module_version": "1.2.0",
       "_model_name": "LayoutModel",
       "_view_count": null,
       "_view_module": "@jupyter-widgets/base",
       "_view_module_version": "1.2.0",
       "_view_name": "LayoutView",
       "align_content": null,
       "align_items": null,
       "align_self": null,
       "border": null,
       "bottom": null,
       "display": null,
       "flex": null,
       "flex_flow": null,
       "grid_area": null,
       "grid_auto_columns": null,
       "grid_auto_flow": null,
       "grid_auto_rows": null,
       "grid_column": null,
       "grid_gap": null,
       "grid_row": null,
       "grid_template_areas": null,
       "grid_template_columns": null,
       "grid_template_rows": null,
       "height": null,
       "justify_content": null,
       "justify_items": null,
       "left": null,
       "margin": null,
       "max_height": null,
       "max_width": null,
       "min_height": null,
       "min_width": null,
       "object_fit": null,
       "object_position": null,
       "order": null,
       "overflow": null,
       "overflow_x": null,
       "overflow_y": null,
       "padding": null,
       "right": null,
       "top": null,
       "visibility": null,
       "width": null
      }
     },
     "4bf91413940147eca2967cdbfb07c6d8": {
      "model_module": "@jupyter-widgets/base",
      "model_module_version": "1.2.0",
      "model_name": "LayoutModel",
      "state": {
       "_model_module": "@jupyter-widgets/base",
       "_model_module_version": "1.2.0",
       "_model_name": "LayoutModel",
       "_view_count": null,
       "_view_module": "@jupyter-widgets/base",
       "_view_module_version": "1.2.0",
       "_view_name": "LayoutView",
       "align_content": null,
       "align_items": null,
       "align_self": null,
       "border": null,
       "bottom": null,
       "display": null,
       "flex": null,
       "flex_flow": null,
       "grid_area": null,
       "grid_auto_columns": null,
       "grid_auto_flow": null,
       "grid_auto_rows": null,
       "grid_column": null,
       "grid_gap": null,
       "grid_row": null,
       "grid_template_areas": null,
       "grid_template_columns": null,
       "grid_template_rows": null,
       "height": null,
       "justify_content": null,
       "justify_items": null,
       "left": null,
       "margin": null,
       "max_height": null,
       "max_width": null,
       "min_height": null,
       "min_width": null,
       "object_fit": null,
       "object_position": null,
       "order": null,
       "overflow": null,
       "overflow_x": null,
       "overflow_y": null,
       "padding": null,
       "right": null,
       "top": null,
       "visibility": null,
       "width": null
      }
     },
     "4d840d7e206e42dd8d1ea4f26cb73445": {
      "model_module": "@jupyter-widgets/controls",
      "model_module_version": "1.5.0",
      "model_name": "HBoxModel",
      "state": {
       "_dom_classes": [],
       "_model_module": "@jupyter-widgets/controls",
       "_model_module_version": "1.5.0",
       "_model_name": "HBoxModel",
       "_view_count": null,
       "_view_module": "@jupyter-widgets/controls",
       "_view_module_version": "1.5.0",
       "_view_name": "HBoxView",
       "box_style": "",
       "children": [
        "IPY_MODEL_29d3720001474e4194b7447d3082971c",
        "IPY_MODEL_99dd2283985341faa44c543dba7679bb",
        "IPY_MODEL_c72bb08c65e4468fbfffdd4f7503bf92"
       ],
       "layout": "IPY_MODEL_7746403a92714368980a4bbfb61397ff"
      }
     },
     "5225346ca17f48c48c688071963a793b": {
      "model_module": "@jupyter-widgets/controls",
      "model_module_version": "1.5.0",
      "model_name": "FloatProgressModel",
      "state": {
       "_dom_classes": [],
       "_model_module": "@jupyter-widgets/controls",
       "_model_module_version": "1.5.0",
       "_model_name": "FloatProgressModel",
       "_view_count": null,
       "_view_module": "@jupyter-widgets/controls",
       "_view_module_version": "1.5.0",
       "_view_name": "ProgressView",
       "bar_style": "success",
       "description": "",
       "description_tooltip": null,
       "layout": "IPY_MODEL_a2f05ba7c01444b284b094bd218e4809",
       "max": 442,
       "min": 0,
       "orientation": "horizontal",
       "style": "IPY_MODEL_2d44bf2ad5a84aa0866d19b875ba6d19",
       "value": 442
      }
     },
     "542e568adb5142619dc889bc29f0c5cb": {
      "model_module": "@jupyter-widgets/controls",
      "model_module_version": "1.5.0",
      "model_name": "FloatProgressModel",
      "state": {
       "_dom_classes": [],
       "_model_module": "@jupyter-widgets/controls",
       "_model_module_version": "1.5.0",
       "_model_name": "FloatProgressModel",
       "_view_count": null,
       "_view_module": "@jupyter-widgets/controls",
       "_view_module_version": "1.5.0",
       "_view_name": "ProgressView",
       "bar_style": "success",
       "description": "",
       "description_tooltip": null,
       "layout": "IPY_MODEL_b6386dda50db424f89ed8239c8d0ca09",
       "max": 363423424,
       "min": 0,
       "orientation": "horizontal",
       "style": "IPY_MODEL_95f0e0d3b5a84a2cb22e039551d488d4",
       "value": 363423424
      }
     },
     "5730aa297f64444782304854ec07ec34": {
      "model_module": "@jupyter-widgets/controls",
      "model_module_version": "1.5.0",
      "model_name": "DescriptionStyleModel",
      "state": {
       "_model_module": "@jupyter-widgets/controls",
       "_model_module_version": "1.5.0",
       "_model_name": "DescriptionStyleModel",
       "_view_count": null,
       "_view_module": "@jupyter-widgets/base",
       "_view_module_version": "1.2.0",
       "_view_name": "StyleView",
       "description_width": ""
      }
     },
     "5c21e6e211724f0f99a7db3d25b111cb": {
      "model_module": "@jupyter-widgets/base",
      "model_module_version": "1.2.0",
      "model_name": "LayoutModel",
      "state": {
       "_model_module": "@jupyter-widgets/base",
       "_model_module_version": "1.2.0",
       "_model_name": "LayoutModel",
       "_view_count": null,
       "_view_module": "@jupyter-widgets/base",
       "_view_module_version": "1.2.0",
       "_view_name": "LayoutView",
       "align_content": null,
       "align_items": null,
       "align_self": null,
       "border": null,
       "bottom": null,
       "display": null,
       "flex": null,
       "flex_flow": null,
       "grid_area": null,
       "grid_auto_columns": null,
       "grid_auto_flow": null,
       "grid_auto_rows": null,
       "grid_column": null,
       "grid_gap": null,
       "grid_row": null,
       "grid_template_areas": null,
       "grid_template_columns": null,
       "grid_template_rows": null,
       "height": null,
       "justify_content": null,
       "justify_items": null,
       "left": null,
       "margin": null,
       "max_height": null,
       "max_width": null,
       "min_height": null,
       "min_width": null,
       "object_fit": null,
       "object_position": null,
       "order": null,
       "overflow": null,
       "overflow_x": null,
       "overflow_y": null,
       "padding": null,
       "right": null,
       "top": null,
       "visibility": null,
       "width": null
      }
     },
     "6184d20d16e745eba2dac35fa97626e1": {
      "model_module": "@jupyter-widgets/base",
      "model_module_version": "1.2.0",
      "model_name": "LayoutModel",
      "state": {
       "_model_module": "@jupyter-widgets/base",
       "_model_module_version": "1.2.0",
       "_model_name": "LayoutModel",
       "_view_count": null,
       "_view_module": "@jupyter-widgets/base",
       "_view_module_version": "1.2.0",
       "_view_name": "LayoutView",
       "align_content": null,
       "align_items": null,
       "align_self": null,
       "border": null,
       "bottom": null,
       "display": null,
       "flex": null,
       "flex_flow": null,
       "grid_area": null,
       "grid_auto_columns": null,
       "grid_auto_flow": null,
       "grid_auto_rows": null,
       "grid_column": null,
       "grid_gap": null,
       "grid_row": null,
       "grid_template_areas": null,
       "grid_template_columns": null,
       "grid_template_rows": null,
       "height": null,
       "justify_content": null,
       "justify_items": null,
       "left": null,
       "margin": null,
       "max_height": null,
       "max_width": null,
       "min_height": null,
       "min_width": null,
       "object_fit": null,
       "object_position": null,
       "order": null,
       "overflow": null,
       "overflow_x": null,
       "overflow_y": null,
       "padding": null,
       "right": null,
       "top": null,
       "visibility": null,
       "width": null
      }
     },
     "620321f4936f4257ac7b40ae46ec3a3b": {
      "model_module": "@jupyter-widgets/controls",
      "model_module_version": "1.5.0",
      "model_name": "DescriptionStyleModel",
      "state": {
       "_model_module": "@jupyter-widgets/controls",
       "_model_module_version": "1.5.0",
       "_model_name": "DescriptionStyleModel",
       "_view_count": null,
       "_view_module": "@jupyter-widgets/base",
       "_view_module_version": "1.2.0",
       "_view_name": "StyleView",
       "description_width": ""
      }
     },
     "642f442757ea40658bc6ad2faa993cae": {
      "model_module": "@jupyter-widgets/controls",
      "model_module_version": "1.5.0",
      "model_name": "DescriptionStyleModel",
      "state": {
       "_model_module": "@jupyter-widgets/controls",
       "_model_module_version": "1.5.0",
       "_model_name": "DescriptionStyleModel",
       "_view_count": null,
       "_view_module": "@jupyter-widgets/base",
       "_view_module_version": "1.2.0",
       "_view_name": "StyleView",
       "description_width": ""
      }
     },
     "683eaea8b65e43ceabb7729a9c2d708e": {
      "model_module": "@jupyter-widgets/controls",
      "model_module_version": "1.5.0",
      "model_name": "FloatProgressModel",
      "state": {
       "_dom_classes": [],
       "_model_module": "@jupyter-widgets/controls",
       "_model_module_version": "1.5.0",
       "_model_name": "FloatProgressModel",
       "_view_count": null,
       "_view_module": "@jupyter-widgets/controls",
       "_view_module_version": "1.5.0",
       "_view_name": "ProgressView",
       "bar_style": "success",
       "description": "",
       "description_tooltip": null,
       "layout": "IPY_MODEL_79c32a937648438ba953a78b74c6407a",
       "max": 231508,
       "min": 0,
       "orientation": "horizontal",
       "style": "IPY_MODEL_cdc73cafe582467c9052b6298ce32e12",
       "value": 231508
      }
     },
     "7746403a92714368980a4bbfb61397ff": {
      "model_module": "@jupyter-widgets/base",
      "model_module_version": "1.2.0",
      "model_name": "LayoutModel",
      "state": {
       "_model_module": "@jupyter-widgets/base",
       "_model_module_version": "1.2.0",
       "_model_name": "LayoutModel",
       "_view_count": null,
       "_view_module": "@jupyter-widgets/base",
       "_view_module_version": "1.2.0",
       "_view_name": "LayoutView",
       "align_content": null,
       "align_items": null,
       "align_self": null,
       "border": null,
       "bottom": null,
       "display": null,
       "flex": null,
       "flex_flow": null,
       "grid_area": null,
       "grid_auto_columns": null,
       "grid_auto_flow": null,
       "grid_auto_rows": null,
       "grid_column": null,
       "grid_gap": null,
       "grid_row": null,
       "grid_template_areas": null,
       "grid_template_columns": null,
       "grid_template_rows": null,
       "height": null,
       "justify_content": null,
       "justify_items": null,
       "left": null,
       "margin": null,
       "max_height": null,
       "max_width": null,
       "min_height": null,
       "min_width": null,
       "object_fit": null,
       "object_position": null,
       "order": null,
       "overflow": null,
       "overflow_x": null,
       "overflow_y": null,
       "padding": null,
       "right": null,
       "top": null,
       "visibility": null,
       "width": null
      }
     },
     "7757bd42ec2247baa5aa1325e1d85e89": {
      "model_module": "@jupyter-widgets/controls",
      "model_module_version": "1.5.0",
      "model_name": "DescriptionStyleModel",
      "state": {
       "_model_module": "@jupyter-widgets/controls",
       "_model_module_version": "1.5.0",
       "_model_name": "DescriptionStyleModel",
       "_view_count": null,
       "_view_module": "@jupyter-widgets/base",
       "_view_module_version": "1.2.0",
       "_view_name": "StyleView",
       "description_width": ""
      }
     },
     "77eb3514b9bf43e4bb1344bb0a3c2e05": {
      "model_module": "@jupyter-widgets/base",
      "model_module_version": "1.2.0",
      "model_name": "LayoutModel",
      "state": {
       "_model_module": "@jupyter-widgets/base",
       "_model_module_version": "1.2.0",
       "_model_name": "LayoutModel",
       "_view_count": null,
       "_view_module": "@jupyter-widgets/base",
       "_view_module_version": "1.2.0",
       "_view_name": "LayoutView",
       "align_content": null,
       "align_items": null,
       "align_self": null,
       "border": null,
       "bottom": null,
       "display": null,
       "flex": null,
       "flex_flow": null,
       "grid_area": null,
       "grid_auto_columns": null,
       "grid_auto_flow": null,
       "grid_auto_rows": null,
       "grid_column": null,
       "grid_gap": null,
       "grid_row": null,
       "grid_template_areas": null,
       "grid_template_columns": null,
       "grid_template_rows": null,
       "height": null,
       "justify_content": null,
       "justify_items": null,
       "left": null,
       "margin": null,
       "max_height": null,
       "max_width": null,
       "min_height": null,
       "min_width": null,
       "object_fit": null,
       "object_position": null,
       "order": null,
       "overflow": null,
       "overflow_x": null,
       "overflow_y": null,
       "padding": null,
       "right": null,
       "top": null,
       "visibility": null,
       "width": null
      }
     },
     "79c32a937648438ba953a78b74c6407a": {
      "model_module": "@jupyter-widgets/base",
      "model_module_version": "1.2.0",
      "model_name": "LayoutModel",
      "state": {
       "_model_module": "@jupyter-widgets/base",
       "_model_module_version": "1.2.0",
       "_model_name": "LayoutModel",
       "_view_count": null,
       "_view_module": "@jupyter-widgets/base",
       "_view_module_version": "1.2.0",
       "_view_name": "LayoutView",
       "align_content": null,
       "align_items": null,
       "align_self": null,
       "border": null,
       "bottom": null,
       "display": null,
       "flex": null,
       "flex_flow": null,
       "grid_area": null,
       "grid_auto_columns": null,
       "grid_auto_flow": null,
       "grid_auto_rows": null,
       "grid_column": null,
       "grid_gap": null,
       "grid_row": null,
       "grid_template_areas": null,
       "grid_template_columns": null,
       "grid_template_rows": null,
       "height": null,
       "justify_content": null,
       "justify_items": null,
       "left": null,
       "margin": null,
       "max_height": null,
       "max_width": null,
       "min_height": null,
       "min_width": null,
       "object_fit": null,
       "object_position": null,
       "order": null,
       "overflow": null,
       "overflow_x": null,
       "overflow_y": null,
       "padding": null,
       "right": null,
       "top": null,
       "visibility": null,
       "width": null
      }
     },
     "80214f50cda64a998bdd170096c1152f": {
      "model_module": "@jupyter-widgets/controls",
      "model_module_version": "1.5.0",
      "model_name": "DescriptionStyleModel",
      "state": {
       "_model_module": "@jupyter-widgets/controls",
       "_model_module_version": "1.5.0",
       "_model_name": "DescriptionStyleModel",
       "_view_count": null,
       "_view_module": "@jupyter-widgets/base",
       "_view_module_version": "1.2.0",
       "_view_name": "StyleView",
       "description_width": ""
      }
     },
     "88962e9517a24454b77dbfbdf7141d06": {
      "model_module": "@jupyter-widgets/controls",
      "model_module_version": "1.5.0",
      "model_name": "HTMLModel",
      "state": {
       "_dom_classes": [],
       "_model_module": "@jupyter-widgets/controls",
       "_model_module_version": "1.5.0",
       "_model_name": "HTMLModel",
       "_view_count": null,
       "_view_module": "@jupyter-widgets/controls",
       "_view_module_version": "1.5.0",
       "_view_name": "HTMLView",
       "description": "",
       "description_tooltip": null,
       "layout": "IPY_MODEL_f90894b6e4fb490899a763b6e8de69d0",
       "placeholder": "​",
       "style": "IPY_MODEL_7757bd42ec2247baa5aa1325e1d85e89",
       "value": "Downloading: 100%"
      }
     },
     "8b3e70421e2c425587da66820e5e36ea": {
      "model_module": "@jupyter-widgets/base",
      "model_module_version": "1.2.0",
      "model_name": "LayoutModel",
      "state": {
       "_model_module": "@jupyter-widgets/base",
       "_model_module_version": "1.2.0",
       "_model_name": "LayoutModel",
       "_view_count": null,
       "_view_module": "@jupyter-widgets/base",
       "_view_module_version": "1.2.0",
       "_view_name": "LayoutView",
       "align_content": null,
       "align_items": null,
       "align_self": null,
       "border": null,
       "bottom": null,
       "display": null,
       "flex": null,
       "flex_flow": null,
       "grid_area": null,
       "grid_auto_columns": null,
       "grid_auto_flow": null,
       "grid_auto_rows": null,
       "grid_column": null,
       "grid_gap": null,
       "grid_row": null,
       "grid_template_areas": null,
       "grid_template_columns": null,
       "grid_template_rows": null,
       "height": null,
       "justify_content": null,
       "justify_items": null,
       "left": null,
       "margin": null,
       "max_height": null,
       "max_width": null,
       "min_height": null,
       "min_width": null,
       "object_fit": null,
       "object_position": null,
       "order": null,
       "overflow": null,
       "overflow_x": null,
       "overflow_y": null,
       "padding": null,
       "right": null,
       "top": null,
       "visibility": null,
       "width": null
      }
     },
     "95f0e0d3b5a84a2cb22e039551d488d4": {
      "model_module": "@jupyter-widgets/controls",
      "model_module_version": "1.5.0",
      "model_name": "ProgressStyleModel",
      "state": {
       "_model_module": "@jupyter-widgets/controls",
       "_model_module_version": "1.5.0",
       "_model_name": "ProgressStyleModel",
       "_view_count": null,
       "_view_module": "@jupyter-widgets/base",
       "_view_module_version": "1.2.0",
       "_view_name": "StyleView",
       "bar_color": null,
       "description_width": ""
      }
     },
     "99dd2283985341faa44c543dba7679bb": {
      "model_module": "@jupyter-widgets/controls",
      "model_module_version": "1.5.0",
      "model_name": "FloatProgressModel",
      "state": {
       "_dom_classes": [],
       "_model_module": "@jupyter-widgets/controls",
       "_model_module_version": "1.5.0",
       "_model_name": "FloatProgressModel",
       "_view_count": null,
       "_view_module": "@jupyter-widgets/controls",
       "_view_module_version": "1.5.0",
       "_view_name": "ProgressView",
       "bar_style": "success",
       "description": "",
       "description_tooltip": null,
       "layout": "IPY_MODEL_77eb3514b9bf43e4bb1344bb0a3c2e05",
       "max": 28,
       "min": 0,
       "orientation": "horizontal",
       "style": "IPY_MODEL_41dbcde64f4542f5bae9857b71e9b85f",
       "value": 28
      }
     },
     "9acd9de4ff764fc99c043df4a49ca8a4": {
      "model_module": "@jupyter-widgets/controls",
      "model_module_version": "1.5.0",
      "model_name": "HTMLModel",
      "state": {
       "_dom_classes": [],
       "_model_module": "@jupyter-widgets/controls",
       "_model_module_version": "1.5.0",
       "_model_name": "HTMLModel",
       "_view_count": null,
       "_view_module": "@jupyter-widgets/controls",
       "_view_module_version": "1.5.0",
       "_view_name": "HTMLView",
       "description": "",
       "description_tooltip": null,
       "layout": "IPY_MODEL_428c86f505a74e6bab345f82241ed3e3",
       "placeholder": "​",
       "style": "IPY_MODEL_a9878b58be9e4f9b9331ecd5b20a90b6",
       "value": "Downloading: 100%"
      }
     },
     "a2f05ba7c01444b284b094bd218e4809": {
      "model_module": "@jupyter-widgets/base",
      "model_module_version": "1.2.0",
      "model_name": "LayoutModel",
      "state": {
       "_model_module": "@jupyter-widgets/base",
       "_model_module_version": "1.2.0",
       "_model_name": "LayoutModel",
       "_view_count": null,
       "_view_module": "@jupyter-widgets/base",
       "_view_module_version": "1.2.0",
       "_view_name": "LayoutView",
       "align_content": null,
       "align_items": null,
       "align_self": null,
       "border": null,
       "bottom": null,
       "display": null,
       "flex": null,
       "flex_flow": null,
       "grid_area": null,
       "grid_auto_columns": null,
       "grid_auto_flow": null,
       "grid_auto_rows": null,
       "grid_column": null,
       "grid_gap": null,
       "grid_row": null,
       "grid_template_areas": null,
       "grid_template_columns": null,
       "grid_template_rows": null,
       "height": null,
       "justify_content": null,
       "justify_items": null,
       "left": null,
       "margin": null,
       "max_height": null,
       "max_width": null,
       "min_height": null,
       "min_width": null,
       "object_fit": null,
       "object_position": null,
       "order": null,
       "overflow": null,
       "overflow_x": null,
       "overflow_y": null,
       "padding": null,
       "right": null,
       "top": null,
       "visibility": null,
       "width": null
      }
     },
     "a9000594fa16492188f6d727e29a7960": {
      "model_module": "@jupyter-widgets/controls",
      "model_module_version": "1.5.0",
      "model_name": "ProgressStyleModel",
      "state": {
       "_model_module": "@jupyter-widgets/controls",
       "_model_module_version": "1.5.0",
       "_model_name": "ProgressStyleModel",
       "_view_count": null,
       "_view_module": "@jupyter-widgets/base",
       "_view_module_version": "1.2.0",
       "_view_name": "StyleView",
       "bar_color": null,
       "description_width": ""
      }
     },
     "a952f03364af472bafe4de21aec3649f": {
      "model_module": "@jupyter-widgets/controls",
      "model_module_version": "1.5.0",
      "model_name": "HTMLModel",
      "state": {
       "_dom_classes": [],
       "_model_module": "@jupyter-widgets/controls",
       "_model_module_version": "1.5.0",
       "_model_name": "HTMLModel",
       "_view_count": null,
       "_view_module": "@jupyter-widgets/controls",
       "_view_module_version": "1.5.0",
       "_view_name": "HTMLView",
       "description": "",
       "description_tooltip": null,
       "layout": "IPY_MODEL_29fa0ff297c64ca88bc9d7783d40d225",
       "placeholder": "​",
       "style": "IPY_MODEL_4165637345a04fbfb1d1b90b2c3ee8bf",
       "value": "Downloading: 100%"
      }
     },
     "a9878b58be9e4f9b9331ecd5b20a90b6": {
      "model_module": "@jupyter-widgets/controls",
      "model_module_version": "1.5.0",
      "model_name": "DescriptionStyleModel",
      "state": {
       "_model_module": "@jupyter-widgets/controls",
       "_model_module_version": "1.5.0",
       "_model_name": "DescriptionStyleModel",
       "_view_count": null,
       "_view_module": "@jupyter-widgets/base",
       "_view_module_version": "1.2.0",
       "_view_name": "StyleView",
       "description_width": ""
      }
     },
     "abc531400a09414aa31c8f1c6a99d868": {
      "model_module": "@jupyter-widgets/controls",
      "model_module_version": "1.5.0",
      "model_name": "HBoxModel",
      "state": {
       "_dom_classes": [],
       "_model_module": "@jupyter-widgets/controls",
       "_model_module_version": "1.5.0",
       "_model_name": "HBoxModel",
       "_view_count": null,
       "_view_module": "@jupyter-widgets/controls",
       "_view_module_version": "1.5.0",
       "_view_name": "HBoxView",
       "box_style": "",
       "children": [
        "IPY_MODEL_88962e9517a24454b77dbfbdf7141d06",
        "IPY_MODEL_683eaea8b65e43ceabb7729a9c2d708e",
        "IPY_MODEL_3eef615ce0ea42bfa71e85a4c5b43822"
       ],
       "layout": "IPY_MODEL_1943c130b15644b8bd7558216a596061"
      }
     },
     "abd0b2170cf64d0bb493b1e42c0cccfe": {
      "model_module": "@jupyter-widgets/controls",
      "model_module_version": "1.5.0",
      "model_name": "DescriptionStyleModel",
      "state": {
       "_model_module": "@jupyter-widgets/controls",
       "_model_module_version": "1.5.0",
       "_model_name": "DescriptionStyleModel",
       "_view_count": null,
       "_view_module": "@jupyter-widgets/base",
       "_view_module_version": "1.2.0",
       "_view_name": "StyleView",
       "description_width": ""
      }
     },
     "b4438d9dd785439e9f4912dc4174fc6b": {
      "model_module": "@jupyter-widgets/controls",
      "model_module_version": "1.5.0",
      "model_name": "HTMLModel",
      "state": {
       "_dom_classes": [],
       "_model_module": "@jupyter-widgets/controls",
       "_model_module_version": "1.5.0",
       "_model_name": "HTMLModel",
       "_view_count": null,
       "_view_module": "@jupyter-widgets/controls",
       "_view_module_version": "1.5.0",
       "_view_name": "HTMLView",
       "description": "",
       "description_tooltip": null,
       "layout": "IPY_MODEL_8b3e70421e2c425587da66820e5e36ea",
       "placeholder": "​",
       "style": "IPY_MODEL_620321f4936f4257ac7b40ae46ec3a3b",
       "value": " 363M/363M [00:16&lt;00:00, 22.5MB/s]"
      }
     },
     "b4f66885367c477a843a909ce17fd18a": {
      "model_module": "@jupyter-widgets/base",
      "model_module_version": "1.2.0",
      "model_name": "LayoutModel",
      "state": {
       "_model_module": "@jupyter-widgets/base",
       "_model_module_version": "1.2.0",
       "_model_name": "LayoutModel",
       "_view_count": null,
       "_view_module": "@jupyter-widgets/base",
       "_view_module_version": "1.2.0",
       "_view_name": "LayoutView",
       "align_content": null,
       "align_items": null,
       "align_self": null,
       "border": null,
       "bottom": null,
       "display": null,
       "flex": null,
       "flex_flow": null,
       "grid_area": null,
       "grid_auto_columns": null,
       "grid_auto_flow": null,
       "grid_auto_rows": null,
       "grid_column": null,
       "grid_gap": null,
       "grid_row": null,
       "grid_template_areas": null,
       "grid_template_columns": null,
       "grid_template_rows": null,
       "height": null,
       "justify_content": null,
       "justify_items": null,
       "left": null,
       "margin": null,
       "max_height": null,
       "max_width": null,
       "min_height": null,
       "min_width": null,
       "object_fit": null,
       "object_position": null,
       "order": null,
       "overflow": null,
       "overflow_x": null,
       "overflow_y": null,
       "padding": null,
       "right": null,
       "top": null,
       "visibility": null,
       "width": null
      }
     },
     "b6386dda50db424f89ed8239c8d0ca09": {
      "model_module": "@jupyter-widgets/base",
      "model_module_version": "1.2.0",
      "model_name": "LayoutModel",
      "state": {
       "_model_module": "@jupyter-widgets/base",
       "_model_module_version": "1.2.0",
       "_model_name": "LayoutModel",
       "_view_count": null,
       "_view_module": "@jupyter-widgets/base",
       "_view_module_version": "1.2.0",
       "_view_name": "LayoutView",
       "align_content": null,
       "align_items": null,
       "align_self": null,
       "border": null,
       "bottom": null,
       "display": null,
       "flex": null,
       "flex_flow": null,
       "grid_area": null,
       "grid_auto_columns": null,
       "grid_auto_flow": null,
       "grid_auto_rows": null,
       "grid_column": null,
       "grid_gap": null,
       "grid_row": null,
       "grid_template_areas": null,
       "grid_template_columns": null,
       "grid_template_rows": null,
       "height": null,
       "justify_content": null,
       "justify_items": null,
       "left": null,
       "margin": null,
       "max_height": null,
       "max_width": null,
       "min_height": null,
       "min_width": null,
       "object_fit": null,
       "object_position": null,
       "order": null,
       "overflow": null,
       "overflow_x": null,
       "overflow_y": null,
       "padding": null,
       "right": null,
       "top": null,
       "visibility": null,
       "width": null
      }
     },
     "b7b3d6d7028d45a4825cb01c729b205b": {
      "model_module": "@jupyter-widgets/controls",
      "model_module_version": "1.5.0",
      "model_name": "HBoxModel",
      "state": {
       "_dom_classes": [],
       "_model_module": "@jupyter-widgets/controls",
       "_model_module_version": "1.5.0",
       "_model_name": "HBoxModel",
       "_view_count": null,
       "_view_module": "@jupyter-widgets/controls",
       "_view_module_version": "1.5.0",
       "_view_name": "HBoxView",
       "box_style": "",
       "children": [
        "IPY_MODEL_9acd9de4ff764fc99c043df4a49ca8a4",
        "IPY_MODEL_217f23b212494db1901a0efb4e319199",
        "IPY_MODEL_0fcf83e4cfca461382652959be6bc5c7"
       ],
       "layout": "IPY_MODEL_cc198f4bed424367af1f04e23e6d7d27"
      }
     },
     "bc5449143d964d1faefcdfaa3d99f4e6": {
      "model_module": "@jupyter-widgets/controls",
      "model_module_version": "1.5.0",
      "model_name": "HBoxModel",
      "state": {
       "_dom_classes": [],
       "_model_module": "@jupyter-widgets/controls",
       "_model_module_version": "1.5.0",
       "_model_name": "HBoxModel",
       "_view_count": null,
       "_view_module": "@jupyter-widgets/controls",
       "_view_module_version": "1.5.0",
       "_view_name": "HBoxView",
       "box_style": "",
       "children": [
        "IPY_MODEL_1255f1e99eb346e38d3fe657e2d10550",
        "IPY_MODEL_5225346ca17f48c48c688071963a793b",
        "IPY_MODEL_3e9f2d0e1bd749c7b92e7853a98e155f"
       ],
       "layout": "IPY_MODEL_fbaec66adb1e4867bcde64fbc716f2a5"
      }
     },
     "c72bb08c65e4468fbfffdd4f7503bf92": {
      "model_module": "@jupyter-widgets/controls",
      "model_module_version": "1.5.0",
      "model_name": "HTMLModel",
      "state": {
       "_dom_classes": [],
       "_model_module": "@jupyter-widgets/controls",
       "_model_module_version": "1.5.0",
       "_model_name": "HTMLModel",
       "_view_count": null,
       "_view_module": "@jupyter-widgets/controls",
       "_view_module_version": "1.5.0",
       "_view_name": "HTMLView",
       "description": "",
       "description_tooltip": null,
       "layout": "IPY_MODEL_dbeff55f2f35410ab68f9bc6a23ea06d",
       "placeholder": "​",
       "style": "IPY_MODEL_abd0b2170cf64d0bb493b1e42c0cccfe",
       "value": " 28.0/28.0 [00:00&lt;00:00, 1.01kB/s]"
      }
     },
     "cc198f4bed424367af1f04e23e6d7d27": {
      "model_module": "@jupyter-widgets/base",
      "model_module_version": "1.2.0",
      "model_name": "LayoutModel",
      "state": {
       "_model_module": "@jupyter-widgets/base",
       "_model_module_version": "1.2.0",
       "_model_name": "LayoutModel",
       "_view_count": null,
       "_view_module": "@jupyter-widgets/base",
       "_view_module_version": "1.2.0",
       "_view_name": "LayoutView",
       "align_content": null,
       "align_items": null,
       "align_self": null,
       "border": null,
       "bottom": null,
       "display": null,
       "flex": null,
       "flex_flow": null,
       "grid_area": null,
       "grid_auto_columns": null,
       "grid_auto_flow": null,
       "grid_auto_rows": null,
       "grid_column": null,
       "grid_gap": null,
       "grid_row": null,
       "grid_template_areas": null,
       "grid_template_columns": null,
       "grid_template_rows": null,
       "height": null,
       "justify_content": null,
       "justify_items": null,
       "left": null,
       "margin": null,
       "max_height": null,
       "max_width": null,
       "min_height": null,
       "min_width": null,
       "object_fit": null,
       "object_position": null,
       "order": null,
       "overflow": null,
       "overflow_x": null,
       "overflow_y": null,
       "padding": null,
       "right": null,
       "top": null,
       "visibility": null,
       "width": null
      }
     },
     "cdc73cafe582467c9052b6298ce32e12": {
      "model_module": "@jupyter-widgets/controls",
      "model_module_version": "1.5.0",
      "model_name": "ProgressStyleModel",
      "state": {
       "_model_module": "@jupyter-widgets/controls",
       "_model_module_version": "1.5.0",
       "_model_name": "ProgressStyleModel",
       "_view_count": null,
       "_view_module": "@jupyter-widgets/base",
       "_view_module_version": "1.2.0",
       "_view_name": "StyleView",
       "bar_color": null,
       "description_width": ""
      }
     },
     "dbeff55f2f35410ab68f9bc6a23ea06d": {
      "model_module": "@jupyter-widgets/base",
      "model_module_version": "1.2.0",
      "model_name": "LayoutModel",
      "state": {
       "_model_module": "@jupyter-widgets/base",
       "_model_module_version": "1.2.0",
       "_model_name": "LayoutModel",
       "_view_count": null,
       "_view_module": "@jupyter-widgets/base",
       "_view_module_version": "1.2.0",
       "_view_name": "LayoutView",
       "align_content": null,
       "align_items": null,
       "align_self": null,
       "border": null,
       "bottom": null,
       "display": null,
       "flex": null,
       "flex_flow": null,
       "grid_area": null,
       "grid_auto_columns": null,
       "grid_auto_flow": null,
       "grid_auto_rows": null,
       "grid_column": null,
       "grid_gap": null,
       "grid_row": null,
       "grid_template_areas": null,
       "grid_template_columns": null,
       "grid_template_rows": null,
       "height": null,
       "justify_content": null,
       "justify_items": null,
       "left": null,
       "margin": null,
       "max_height": null,
       "max_width": null,
       "min_height": null,
       "min_width": null,
       "object_fit": null,
       "object_position": null,
       "order": null,
       "overflow": null,
       "overflow_x": null,
       "overflow_y": null,
       "padding": null,
       "right": null,
       "top": null,
       "visibility": null,
       "width": null
      }
     },
     "f90894b6e4fb490899a763b6e8de69d0": {
      "model_module": "@jupyter-widgets/base",
      "model_module_version": "1.2.0",
      "model_name": "LayoutModel",
      "state": {
       "_model_module": "@jupyter-widgets/base",
       "_model_module_version": "1.2.0",
       "_model_name": "LayoutModel",
       "_view_count": null,
       "_view_module": "@jupyter-widgets/base",
       "_view_module_version": "1.2.0",
       "_view_name": "LayoutView",
       "align_content": null,
       "align_items": null,
       "align_self": null,
       "border": null,
       "bottom": null,
       "display": null,
       "flex": null,
       "flex_flow": null,
       "grid_area": null,
       "grid_auto_columns": null,
       "grid_auto_flow": null,
       "grid_auto_rows": null,
       "grid_column": null,
       "grid_gap": null,
       "grid_row": null,
       "grid_template_areas": null,
       "grid_template_columns": null,
       "grid_template_rows": null,
       "height": null,
       "justify_content": null,
       "justify_items": null,
       "left": null,
       "margin": null,
       "max_height": null,
       "max_width": null,
       "min_height": null,
       "min_width": null,
       "object_fit": null,
       "object_position": null,
       "order": null,
       "overflow": null,
       "overflow_x": null,
       "overflow_y": null,
       "padding": null,
       "right": null,
       "top": null,
       "visibility": null,
       "width": null
      }
     },
     "fbaec66adb1e4867bcde64fbc716f2a5": {
      "model_module": "@jupyter-widgets/base",
      "model_module_version": "1.2.0",
      "model_name": "LayoutModel",
      "state": {
       "_model_module": "@jupyter-widgets/base",
       "_model_module_version": "1.2.0",
       "_model_name": "LayoutModel",
       "_view_count": null,
       "_view_module": "@jupyter-widgets/base",
       "_view_module_version": "1.2.0",
       "_view_name": "LayoutView",
       "align_content": null,
       "align_items": null,
       "align_self": null,
       "border": null,
       "bottom": null,
       "display": null,
       "flex": null,
       "flex_flow": null,
       "grid_area": null,
       "grid_auto_columns": null,
       "grid_auto_flow": null,
       "grid_auto_rows": null,
       "grid_column": null,
       "grid_gap": null,
       "grid_row": null,
       "grid_template_areas": null,
       "grid_template_columns": null,
       "grid_template_rows": null,
       "height": null,
       "justify_content": null,
       "justify_items": null,
       "left": null,
       "margin": null,
       "max_height": null,
       "max_width": null,
       "min_height": null,
       "min_width": null,
       "object_fit": null,
       "object_position": null,
       "order": null,
       "overflow": null,
       "overflow_x": null,
       "overflow_y": null,
       "padding": null,
       "right": null,
       "top": null,
       "visibility": null,
       "width": null
      }
     },
     "fc183ae61475480a8854433f080c5a62": {
      "model_module": "@jupyter-widgets/controls",
      "model_module_version": "1.5.0",
      "model_name": "HBoxModel",
      "state": {
       "_dom_classes": [],
       "_model_module": "@jupyter-widgets/controls",
       "_model_module_version": "1.5.0",
       "_model_name": "HBoxModel",
       "_view_count": null,
       "_view_module": "@jupyter-widgets/controls",
       "_view_module_version": "1.5.0",
       "_view_name": "HBoxView",
       "box_style": "",
       "children": [
        "IPY_MODEL_a952f03364af472bafe4de21aec3649f",
        "IPY_MODEL_542e568adb5142619dc889bc29f0c5cb",
        "IPY_MODEL_b4438d9dd785439e9f4912dc4174fc6b"
       ],
       "layout": "IPY_MODEL_6184d20d16e745eba2dac35fa97626e1"
      }
     },
     "fc8f449d751e43679fd94770ececc200": {
      "model_module": "@jupyter-widgets/base",
      "model_module_version": "1.2.0",
      "model_name": "LayoutModel",
      "state": {
       "_model_module": "@jupyter-widgets/base",
       "_model_module_version": "1.2.0",
       "_model_name": "LayoutModel",
       "_view_count": null,
       "_view_module": "@jupyter-widgets/base",
       "_view_module_version": "1.2.0",
       "_view_name": "LayoutView",
       "align_content": null,
       "align_items": null,
       "align_self": null,
       "border": null,
       "bottom": null,
       "display": null,
       "flex": null,
       "flex_flow": null,
       "grid_area": null,
       "grid_auto_columns": null,
       "grid_auto_flow": null,
       "grid_auto_rows": null,
       "grid_column": null,
       "grid_gap": null,
       "grid_row": null,
       "grid_template_areas": null,
       "grid_template_columns": null,
       "grid_template_rows": null,
       "height": null,
       "justify_content": null,
       "justify_items": null,
       "left": null,
       "margin": null,
       "max_height": null,
       "max_width": null,
       "min_height": null,
       "min_width": null,
       "object_fit": null,
       "object_position": null,
       "order": null,
       "overflow": null,
       "overflow_x": null,
       "overflow_y": null,
       "padding": null,
       "right": null,
       "top": null,
       "visibility": null,
       "width": null
      }
     }
    },
    "version_major": 2,
    "version_minor": 0
   }
  }
 },
 "nbformat": 4,
 "nbformat_minor": 5
}
